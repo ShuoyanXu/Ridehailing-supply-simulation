{
  "cells": [
    {
      "cell_type": "markdown",
      "metadata": {
        "id": "b2jF-yhC6WdV"
      },
      "source": [
        "## Ride-hailing Simulation"
      ]
    },
    {
      "cell_type": "code",
      "execution_count": 49,
      "metadata": {
        "id": "CLrHeooSaGtu"
      },
      "outputs": [],
      "source": [
        "from collections import OrderedDict\n",
        "import random\n",
        "import pandas as pd\n",
        "import numpy as np\n",
        "import pandas as pd\n",
        "import matplotlib.pyplot as plt\n",
        "\n",
        "ride_hailing_dataset_path = r'D:\\OneDrive - University of Toronto\\City Simulation\\2024.02.04 City of Toronto Simulation Platform\\Dataset\\New folder\\Ride_hailing_Dataset.csv'\n",
        "ACTIVE = 'active'\n",
        "WORKING = 'working'\n",
        "INACTIVE = 'inactive'\n",
        "NO_TRIP_ID = -1"
      ]
    },
    {
      "cell_type": "markdown",
      "metadata": {
        "id": "oym95ozM6Wds"
      },
      "source": [
        "## TODO\n",
        "\n",
        "Objective: minimal code to run RL\n",
        "\n",
        "1. using status: active, inactive, working to generate driver activities;\n",
        "2. Gym environment\n",
        "3. Seperate environment from Matching and Reposition function\n",
        "4. fitting distribution of demand and supply\n",
        "5. Python typing check\n",
        "\n",
        "OD matrix: HA\n",
        "\n",
        "625*625*12*24: uniform\n",
        "\n",
        "625*12*24"
      ]
    },
    {
      "cell_type": "markdown",
      "metadata": {
        "id": "XPtmNXir6d9w"
      },
      "source": [
        "# CONSTANTS\n",
        "\n"
      ]
    },
    {
      "cell_type": "code",
      "execution_count": 50,
      "metadata": {
        "id": "tSs-vyhU6llB"
      },
      "outputs": [],
      "source": [
        "ride_hailing_dataset_path = r'D:\\OneDrive - University of Toronto\\City Simulation\\2024.02.04 City of Toronto Simulation Platform\\Dataset\\New folder\\Ride_hailing_Dataset.csv'\n",
        "ACTIVE = 'active'\n",
        "WORKING = 'working'\n",
        "INACTIVE = 'inactive'\n",
        "NO_TRIP_ID = -1"
      ]
    },
    {
      "cell_type": "markdown",
      "metadata": {
        "id": "i42CJNrg6Wdd"
      },
      "source": [
        "# Processing input and output as CSV files"
      ]
    },
    {
      "cell_type": "code",
      "execution_count": 51,
      "metadata": {
        "colab": {
          "base_uri": "https://localhost:8080/",
          "height": 356
        },
        "id": "4Nc678FM6Wde",
        "outputId": "98f12058-c807-47fa-b8a9-ad651ca8e0b2"
      },
      "outputs": [
        {
          "data": {
            "text/html": [
              "<div>\n",
              "<style scoped>\n",
              "    .dataframe tbody tr th:only-of-type {\n",
              "        vertical-align: middle;\n",
              "    }\n",
              "\n",
              "    .dataframe tbody tr th {\n",
              "        vertical-align: top;\n",
              "    }\n",
              "\n",
              "    .dataframe thead th {\n",
              "        text-align: right;\n",
              "    }\n",
              "</style>\n",
              "<table border=\"1\" class=\"dataframe\">\n",
              "  <thead>\n",
              "    <tr style=\"text-align: right;\">\n",
              "      <th></th>\n",
              "      <th>mlsassignedptc</th>\n",
              "      <th>anon_vin</th>\n",
              "      <th>ptcltid</th>\n",
              "      <th>p1start_datetime</th>\n",
              "      <th>p1end_datetime</th>\n",
              "      <th>p1start_long</th>\n",
              "      <th>p1start_lat</th>\n",
              "      <th>p1end_long</th>\n",
              "      <th>p1end_lat</th>\n",
              "      <th>distance_x</th>\n",
              "      <th>...</th>\n",
              "      <th>dropoff_lat</th>\n",
              "      <th>distance_y</th>\n",
              "      <th>fareamount</th>\n",
              "      <th>serviceprovided</th>\n",
              "      <th>cancelreason</th>\n",
              "      <th>Origin</th>\n",
              "      <th>Destination</th>\n",
              "      <th>start_shift</th>\n",
              "      <th>end_shift</th>\n",
              "      <th>request</th>\n",
              "    </tr>\n",
              "  </thead>\n",
              "  <tbody>\n",
              "    <tr>\n",
              "      <th>0</th>\n",
              "      <td>850</td>\n",
              "      <td>1.0</td>\n",
              "      <td>bea1f00dc3093ab2a42745ed4b0c9d754a0c8d7c391103...</td>\n",
              "      <td>2020-01-02 13:30</td>\n",
              "      <td>2020-01-02 13:41</td>\n",
              "      <td>-79.3625</td>\n",
              "      <td>43.7737</td>\n",
              "      <td>-79.4103</td>\n",
              "      <td>43.7585</td>\n",
              "      <td>4.2</td>\n",
              "      <td>...</td>\n",
              "      <td>NaN</td>\n",
              "      <td>NaN</td>\n",
              "      <td>NaN</td>\n",
              "      <td>NaN</td>\n",
              "      <td>NaN</td>\n",
              "      <td>467.0</td>\n",
              "      <td>441.0</td>\n",
              "      <td>1</td>\n",
              "      <td>1</td>\n",
              "      <td>0</td>\n",
              "    </tr>\n",
              "    <tr>\n",
              "      <th>1</th>\n",
              "      <td>850</td>\n",
              "      <td>1.0</td>\n",
              "      <td>7bb23c3714b9a1f82c0547a22f483f6f0f1a24e22e552f...</td>\n",
              "      <td>2020-01-02 14:01</td>\n",
              "      <td>2020-01-02 14:11</td>\n",
              "      <td>-79.4182</td>\n",
              "      <td>43.7893</td>\n",
              "      <td>-79.4171</td>\n",
              "      <td>43.7821</td>\n",
              "      <td>0.8</td>\n",
              "      <td>...</td>\n",
              "      <td>NaN</td>\n",
              "      <td>NaN</td>\n",
              "      <td>NaN</td>\n",
              "      <td>NaN</td>\n",
              "      <td>NaN</td>\n",
              "      <td>445.0</td>\n",
              "      <td>444.0</td>\n",
              "      <td>1</td>\n",
              "      <td>1</td>\n",
              "      <td>0</td>\n",
              "    </tr>\n",
              "    <tr>\n",
              "      <th>2</th>\n",
              "      <td>850</td>\n",
              "      <td>1.0</td>\n",
              "      <td>8ec058ee50a1048817824b48fd74f977ea2c65fb8fd2f0...</td>\n",
              "      <td>2020-01-02 14:17</td>\n",
              "      <td>2020-01-02 14:33</td>\n",
              "      <td>-79.4171</td>\n",
              "      <td>43.7821</td>\n",
              "      <td>-79.4664</td>\n",
              "      <td>43.7690</td>\n",
              "      <td>4.2</td>\n",
              "      <td>...</td>\n",
              "      <td>NaN</td>\n",
              "      <td>NaN</td>\n",
              "      <td>NaN</td>\n",
              "      <td>NaN</td>\n",
              "      <td>NaN</td>\n",
              "      <td>444.0</td>\n",
              "      <td>429.0</td>\n",
              "      <td>1</td>\n",
              "      <td>1</td>\n",
              "      <td>0</td>\n",
              "    </tr>\n",
              "    <tr>\n",
              "      <th>3</th>\n",
              "      <td>850</td>\n",
              "      <td>1.0</td>\n",
              "      <td>e6e485b94a3f1fdb6cad578f2424d0b7b167a8d9960509...</td>\n",
              "      <td>2020-01-02 14:45</td>\n",
              "      <td>2020-01-02 15:02</td>\n",
              "      <td>-79.4391</td>\n",
              "      <td>43.7752</td>\n",
              "      <td>-79.4898</td>\n",
              "      <td>43.7453</td>\n",
              "      <td>5.3</td>\n",
              "      <td>...</td>\n",
              "      <td>NaN</td>\n",
              "      <td>NaN</td>\n",
              "      <td>NaN</td>\n",
              "      <td>NaN</td>\n",
              "      <td>NaN</td>\n",
              "      <td>435.0</td>\n",
              "      <td>412.0</td>\n",
              "      <td>1</td>\n",
              "      <td>1</td>\n",
              "      <td>0</td>\n",
              "    </tr>\n",
              "    <tr>\n",
              "      <th>4</th>\n",
              "      <td>850</td>\n",
              "      <td>1.0</td>\n",
              "      <td>60ddd7d8de38d7ecf63e1c2c39efda2ae44c422c789a1a...</td>\n",
              "      <td>2020-01-02 15:14</td>\n",
              "      <td>2020-01-02 15:18</td>\n",
              "      <td>-79.4797</td>\n",
              "      <td>43.7533</td>\n",
              "      <td>-79.4690</td>\n",
              "      <td>43.7536</td>\n",
              "      <td>0.9</td>\n",
              "      <td>...</td>\n",
              "      <td>NaN</td>\n",
              "      <td>NaN</td>\n",
              "      <td>NaN</td>\n",
              "      <td>NaN</td>\n",
              "      <td>NaN</td>\n",
              "      <td>418.0</td>\n",
              "      <td>394.0</td>\n",
              "      <td>1</td>\n",
              "      <td>1</td>\n",
              "      <td>0</td>\n",
              "    </tr>\n",
              "  </tbody>\n",
              "</table>\n",
              "<p>5 rows × 36 columns</p>\n",
              "</div>"
            ],
            "text/plain": [
              "   mlsassignedptc  anon_vin  \\\n",
              "0             850       1.0   \n",
              "1             850       1.0   \n",
              "2             850       1.0   \n",
              "3             850       1.0   \n",
              "4             850       1.0   \n",
              "\n",
              "                                             ptcltid  p1start_datetime  \\\n",
              "0  bea1f00dc3093ab2a42745ed4b0c9d754a0c8d7c391103...  2020-01-02 13:30   \n",
              "1  7bb23c3714b9a1f82c0547a22f483f6f0f1a24e22e552f...  2020-01-02 14:01   \n",
              "2  8ec058ee50a1048817824b48fd74f977ea2c65fb8fd2f0...  2020-01-02 14:17   \n",
              "3  e6e485b94a3f1fdb6cad578f2424d0b7b167a8d9960509...  2020-01-02 14:45   \n",
              "4  60ddd7d8de38d7ecf63e1c2c39efda2ae44c422c789a1a...  2020-01-02 15:14   \n",
              "\n",
              "     p1end_datetime  p1start_long  p1start_lat  p1end_long  p1end_lat  \\\n",
              "0  2020-01-02 13:41      -79.3625      43.7737    -79.4103    43.7585   \n",
              "1  2020-01-02 14:11      -79.4182      43.7893    -79.4171    43.7821   \n",
              "2  2020-01-02 14:33      -79.4171      43.7821    -79.4664    43.7690   \n",
              "3  2020-01-02 15:02      -79.4391      43.7752    -79.4898    43.7453   \n",
              "4  2020-01-02 15:18      -79.4797      43.7533    -79.4690    43.7536   \n",
              "\n",
              "   distance_x  ... dropoff_lat distance_y fareamount serviceprovided  \\\n",
              "0         4.2  ...         NaN        NaN        NaN             NaN   \n",
              "1         0.8  ...         NaN        NaN        NaN             NaN   \n",
              "2         4.2  ...         NaN        NaN        NaN             NaN   \n",
              "3         5.3  ...         NaN        NaN        NaN             NaN   \n",
              "4         0.9  ...         NaN        NaN        NaN             NaN   \n",
              "\n",
              "   cancelreason  Origin  Destination  start_shift end_shift request  \n",
              "0           NaN   467.0        441.0            1         1       0  \n",
              "1           NaN   445.0        444.0            1         1       0  \n",
              "2           NaN   444.0        429.0            1         1       0  \n",
              "3           NaN   435.0        412.0            1         1       0  \n",
              "4           NaN   418.0        394.0            1         1       0  \n",
              "\n",
              "[5 rows x 36 columns]"
            ]
          },
          "execution_count": 51,
          "metadata": {},
          "output_type": "execute_result"
        }
      ],
      "source": [
        "df=pd.read_csv(ride_hailing_dataset_path)\n",
        "df.head()"
      ]
    },
    {
      "cell_type": "markdown",
      "metadata": {
        "id": "CPAgsRcO6Wdi"
      },
      "source": [
        "# Add Demand"
      ]
    },
    {
      "cell_type": "code",
      "execution_count": 52,
      "metadata": {
        "id": "aQZFVXWZ6Wdi"
      },
      "outputs": [],
      "source": [
        "df = df[df['request'] == 1]\n",
        "\n",
        "# Convert the datetime columns to pandas datetime format\n",
        "df[\"passengerpickupdatetime\"] = pd.to_datetime(df[\"passengerpickupdatetime\"])\n",
        "df[\"passengerdropoffdatetime\"] = pd.to_datetime(df[\"passengerdropoffdatetime\"])\n",
        "\n",
        "# Calculate the duration in minutes and create a new column\n",
        "df[\"duration\"] = (df[\"passengerdropoffdatetime\"] - df[\"passengerpickupdatetime\"]).dt.total_seconds() / 60\n",
        "\n",
        "# List of columns you want to delete\n",
        "columns_to_delete = [\n",
        "    \"mlsassignedptc\", \"anon_vin\", \"ptcltid\", \"p1start_datetime\",\n",
        "    \"p1end_datetime\", \"p1start_long\", \"p1start_lat\", \"p1end_long\",\n",
        "    \"p1end_lat\", \"distance_x\", \"event_type\", \"start_datetime\",\n",
        "    \"end_datetime\", \"trippassengerid\", \"driverwaittime\",\n",
        "    \"tripstatusid\", \"accessible\", \"driveracceptancedatetime\",\n",
        "    \"driverarrivaldatetime\", \"passengerpickupdatetime\",\n",
        "    \"passengerdropoffdatetime\", \"pickup_long\", \"pickup_lat\",\n",
        "    \"dropoff_long\", \"dropoff_lat\", \"serviceprovided\", \"cancelreason\",\n",
        "    \"start_shift\", \"end_shift\", \"request\"\n",
        "]\n",
        "\n",
        "# Dropping the columns from the DataFrame\n",
        "demand_df = df.drop(columns=columns_to_delete, errors='ignore')\n",
        "\n",
        "demand_df.to_csv(r'D:\\OneDrive - University of Toronto\\City Simulation\\2024.02.04 City of Toronto Simulation Platform\\Dataset\\New folder\\Demand.csv', index = False)\n"
      ]
    },
    {
      "cell_type": "markdown",
      "metadata": {
        "id": "Vd5u8dzJ6Wdj"
      },
      "source": [
        "# Add Driver"
      ]
    },
    {
      "cell_type": "code",
      "execution_count": 53,
      "metadata": {
        "id": "H9XjgXbu6Wdk"
      },
      "outputs": [],
      "source": [
        "driver_df = df[df['start_shift'] == 1]\n",
        "\n",
        "\n",
        "\n",
        "# List of columns you want to delete\n",
        "columns_to_delete = [\n",
        "    \"mlsassignedptc\",  \"ptcltid\", \"p1start_datetime\",\n",
        "    \"p1end_datetime\", \"p1start_long\", \"p1start_lat\", \"p1end_long\",\n",
        "    \"p1end_lat\", \"distance_x\", \"event_type\",\n",
        "    \"end_datetime\", \"trippassengerid\", \"driverwaittime\", \"Destination\"\n",
        "    \"tripstatusid\", \"accessible\", \"driveracceptancedatetime\",\n",
        "    \"driverarrivaldatetime\", \"passengerpickupdatetime\",\n",
        "    \"passengerdropoffdatetime\", \"pickup_long\", \"pickup_lat\",\n",
        "    \"dropoff_long\", \"dropoff_lat\", \"serviceprovided\", \"cancelreason\",\n",
        "    \"start_shift\", \"end_shift\", \"request\", \"ptctripid\",\t\"tripstatusid\",\t\"requestdatetime\",\t\"distance_y\",\t\"fareamount\", \"Destination\",\n",
        "\n",
        "\n",
        "]\n",
        "\n",
        "# Dropping the columns from the DataFrame\n",
        "driver_df= driver_df.drop(columns=columns_to_delete, errors='ignore')\n",
        "\n",
        "\n",
        "drive_df_save_path = r'D:\\OneDrive - University of Toronto\\City Simulation\\2024.02.04 City of Toronto Simulation Platform\\Dataset\\New folder\\Driver.csv'\n",
        "driver_df.to_csv(drive_df_save_path, index = False)"
      ]
    },
    {
      "cell_type": "markdown",
      "metadata": {
        "id": "SZm4kfE-6Wdl"
      },
      "source": [
        "# Different Supply Level"
      ]
    },
    {
      "cell_type": "code",
      "execution_count": 54,
      "metadata": {
        "id": "p4i_cBxY6Wdm"
      },
      "outputs": [],
      "source": [
        "## Different Supply Level\n",
        "def filter_drivers_save_csv(input_df, percentage_to_keep, output_file_path, random_seed=None):\n",
        "    \"\"\"\n",
        "    Filters a given percentage of drivers from the input DataFrame and saves the filtered DataFrame to a CSV file.\n",
        "\n",
        "    Parameters:\n",
        "    - input_df (pd.DataFrame): Input DataFrame containing driver data.\n",
        "    - percentage_to_keep (float): Percentage of drivers to keep (between 0 and 1).\n",
        "    - output_file_path (str): Path to save the output CSV file.\n",
        "\n",
        "    Returns:\n",
        "    - None\n",
        "    \"\"\"\n",
        "    # Ensure the input percentage is within the expected range\n",
        "    if not (0 < percentage_to_keep <= 1):\n",
        "        raise ValueError(\"Percentage to keep must be between 0 and 1.\")\n",
        "\n",
        "    # Shuffle the DataFrame to randomize the selection\n",
        "    shuffled_df = input_df.sample(frac=1).reset_index(drop=True)\n",
        "\n",
        "    # Get unique drivers\n",
        "    unique_drivers = shuffled_df['anon_vin'].unique()\n",
        "\n",
        "    # Calculate the number of drivers to keep\n",
        "    drivers_to_keep_count = int(len(unique_drivers) * percentage_to_keep)\n",
        "\n",
        "    # Select a subset of drivers to keep\n",
        "    drivers_to_keep = unique_drivers[:drivers_to_keep_count]\n",
        "\n",
        "    # Filter the DataFrame to only include selected drivers\n",
        "    filtered_df = shuffled_df[shuffled_df['anon_vin'].isin(drivers_to_keep)]\n",
        "\n",
        "    # Save the filtered DataFrame to a CSV file\n",
        "    filtered_df.to_csv(output_file_path, index=False)\n",
        "\n",
        "    print(f\"Filtered data saved to {output_file_path}. Kept {drivers_to_keep_count} drivers out of {len(unique_drivers)} total drivers.\")"
      ]
    },
    {
      "cell_type": "code",
      "execution_count": 55,
      "metadata": {
        "id": "Gi54DVlS6Wdn",
        "outputId": "dad6e079-0a85-44d3-9b60-f41ec14d8dd5"
      },
      "outputs": [
        {
          "name": "stdout",
          "output_type": "stream",
          "text": [
            "Filtered data saved to D:\\OneDrive - University of Toronto\\City Simulation\\2024.02.04 City of Toronto Simulation Platform\\Dataset\\New folder\\Scenario_different_supply_level\\0.1Supply.csv. Kept 782 drivers out of 7820 total drivers.\n"
          ]
        }
      ],
      "source": [
        "input_df=pd.read_csv(r'D:\\OneDrive - University of Toronto\\City Simulation\\2024.02.04 City of Toronto Simulation Platform\\Dataset\\New folder\\Driver.csv')\n",
        "output_file_path=r'D:\\OneDrive - University of Toronto\\City Simulation\\2024.02.04 City of Toronto Simulation Platform\\Dataset\\New folder\\Scenario_different_supply_level\\0.1Supply.csv'\n",
        "filter_drivers_save_csv(input_df, 0.1, output_file_path, random_seed=155)"
      ]
    },
    {
      "cell_type": "markdown",
      "metadata": {
        "id": "jEmlKc_36Wdo"
      },
      "source": [
        "## add survival function"
      ]
    },
    {
      "cell_type": "code",
      "execution_count": 24,
      "metadata": {
        "id": "QJDQBA8o6Wdo"
      },
      "outputs": [
        {
          "ename": "NameError",
          "evalue": "name 'df' is not defined",
          "output_type": "error",
          "traceback": [
            "\u001b[1;31m---------------------------------------------------------------------------\u001b[0m",
            "\u001b[1;31mNameError\u001b[0m                                 Traceback (most recent call last)",
            "Cell \u001b[1;32mIn[24], line 4\u001b[0m\n\u001b[0;32m      1\u001b[0m \u001b[38;5;28;01mfrom\u001b[39;00m \u001b[38;5;21;01mdatetime\u001b[39;00m \u001b[38;5;28;01mimport\u001b[39;00m datetime\n\u001b[0;32m      3\u001b[0m \u001b[38;5;66;03m# Assuming df_shifts is already defined, we first ensure start_datetime and end_datetime are datetime objects\u001b[39;00m\n\u001b[1;32m----> 4\u001b[0m df[\u001b[38;5;124m'\u001b[39m\u001b[38;5;124mstart_datetime\u001b[39m\u001b[38;5;124m'\u001b[39m] \u001b[38;5;241m=\u001b[39m pd\u001b[38;5;241m.\u001b[39mto_datetime(\u001b[43mdf\u001b[49m[\u001b[38;5;124m'\u001b[39m\u001b[38;5;124mstart_datetime\u001b[39m\u001b[38;5;124m'\u001b[39m])\n\u001b[0;32m      5\u001b[0m df[\u001b[38;5;124m'\u001b[39m\u001b[38;5;124mend_datetime\u001b[39m\u001b[38;5;124m'\u001b[39m] \u001b[38;5;241m=\u001b[39m pd\u001b[38;5;241m.\u001b[39mto_datetime(df[\u001b[38;5;124m'\u001b[39m\u001b[38;5;124mend_datetime\u001b[39m\u001b[38;5;124m'\u001b[39m])\n\u001b[0;32m      7\u001b[0m \u001b[38;5;66;03m# We'll define a new function to calculate the duration of each shift\u001b[39;00m\n",
            "\u001b[1;31mNameError\u001b[0m: name 'df' is not defined"
          ]
        }
      ],
      "source": [
        "from datetime import datetime\n",
        "\n",
        "# Assuming df_shifts is already defined, we first ensure start_datetime and end_datetime are datetime objects\n",
        "df['start_datetime'] = pd.to_datetime(df['start_datetime'])\n",
        "df['end_datetime'] = pd.to_datetime(df['end_datetime'])\n",
        "\n",
        "# We'll define a new function to calculate the duration of each shift\n",
        "def calculate_correct_shift_durations(df):\n",
        "    # Sort by anon_vin and start_datetime to ensure correct chronological order\n",
        "    df = df.sort_values(by=['anon_vin', 'start_datetime'])\n",
        "\n",
        "    # List to hold the result\n",
        "    shifts = []\n",
        "\n",
        "    # Temporary variables to hold the start and end of the current shift\n",
        "    current_shift_start = None\n",
        "    current_shift_end = None\n",
        "    current_vin = None\n",
        "\n",
        "    # Iterate through the DataFrame\n",
        "    for index, row in df.iterrows():\n",
        "        # If we're starting a new shift or continuing an existing shift\n",
        "        if current_vin != row['anon_vin'] or row['start_shift'] == 1:\n",
        "            # If there was a previous shift, save it\n",
        "            if current_shift_start is not None:\n",
        "                shifts.append({\n",
        "                    'anon_vin': current_vin,\n",
        "                    'shift_start': current_shift_start,\n",
        "                    'shift_end': current_shift_end,\n",
        "                    'duration_minutes': (current_shift_end - current_shift_start).total_seconds() / 60\n",
        "                })\n",
        "\n",
        "            # Start a new shift\n",
        "            current_vin = row['anon_vin']\n",
        "            current_shift_start = row['start_datetime']\n",
        "            current_shift_end = row['end_datetime']\n",
        "        else:\n",
        "            # Continue the current shift\n",
        "            current_shift_end = row['end_datetime']\n",
        "\n",
        "    # Don't forget to add the last shift\n",
        "    if current_shift_start is not None:\n",
        "        shifts.append({\n",
        "            'anon_vin': current_vin,\n",
        "            'shift_start': current_shift_start,\n",
        "            'shift_end': current_shift_end,\n",
        "            'duration_minutes': (current_shift_end - current_shift_start).total_seconds() / 60\n",
        "        })\n",
        "\n",
        "    return pd.DataFrame(shifts)\n",
        "\n",
        "# Calculate the correct shift durations\n",
        "correct_shift_durations = calculate_correct_shift_durations(df)\n",
        "correct_shift_durations.to_csv(r'D:\\OneDrive - University of Toronto\\City Simulation\\2024.02.04 City of Toronto Simulation Platform\\Dataset\\New folder\\Shift.csv', index = False)\n"
      ]
    },
    {
      "cell_type": "code",
      "execution_count": 25,
      "metadata": {
        "id": "UNymENnb6Wdp",
        "outputId": "9c72d8d5-5156-4507-ac81-6a1133096edc"
      },
      "outputs": [
        {
          "data": {
            "image/png": "[encoded data removed]",
            "text/plain": [
              "<Figure size 640x480 with 1 Axes>"
            ]
          },
          "metadata": {},
          "output_type": "display_data"
        }
      ],
      "source": [
        "import numpy as np\n",
        "from lifelines import KaplanMeierFitter\n",
        "import pandas as pd\n",
        "import matplotlib.pyplot as plt\n",
        "\n",
        "\n",
        "# Assuming df_shifts is your DataFrame with the shift data\n",
        "\n",
        "correct_shift_durations=pd.read_csv(r'D:\\OneDrive - University of Toronto\\City Simulation\\2024.02.04 City of Toronto Simulation Platform\\Dataset\\New folder\\Shift.csv')\n",
        "\n",
        "\n",
        "# Create an event_observed array of ones, with the same length as the duration_minutes column\n",
        "event_observed = np.ones_like(correct_shift_durations[\"duration_minutes\"])\n",
        "\n",
        "kmf = KaplanMeierFitter()\n",
        "kmf.fit(durations=correct_shift_durations[\"duration_minutes\"], event_observed=event_observed)\n",
        "\n",
        "kmf.plot_survival_function()\n",
        "plt.title('Survival Function of Shift Durations')\n",
        "plt.xlabel('Time in Minutes')\n",
        "plt.ylabel('Survival Probability')\n",
        "plt.show()\n",
        "\n"
      ]
    },
    {
      "cell_type": "code",
      "execution_count": 26,
      "metadata": {
        "id": "-SwCbSpz6Wdq",
        "outputId": "9abae6f5-a94e-4b01-aa6e-ad3d1be9e424"
      },
      "outputs": [
        {
          "data": {
            "text/plain": [
              "0.9882366464863219"
            ]
          },
          "execution_count": 26,
          "metadata": {},
          "output_type": "execute_result"
        }
      ],
      "source": [
        "kmf.predict(1)"
      ]
    },
    {
      "cell_type": "markdown",
      "metadata": {
        "id": "oVmfnxBt6Wdr"
      },
      "source": [
        "## add interzonal time"
      ]
    },
    {
      "cell_type": "markdown",
      "metadata": {
        "id": "bl1iC0LX6Wdt"
      },
      "source": [
        "## define class Driver, TripRequest, Simulation"
      ]
    },
    {
      "cell_type": "code",
      "execution_count": 27,
      "metadata": {},
      "outputs": [],
      "source": [
        "from collections import OrderedDict\n",
        "import random\n",
        "import pandas as pd\n",
        "import numpy as np\n",
        "import pandas as pd\n",
        "import matplotlib.pyplot as plt\n",
        "\n",
        "ride_hailing_dataset_path = r'D:\\OneDrive - University of Toronto\\City Simulation\\2024.02.04 City of Toronto Simulation Platform\\Dataset\\New folder\\Ride_hailing_Dataset.csv'\n",
        "ACTIVE = 'active'\n",
        "WORKING = 'working'\n",
        "INACTIVE = 'inactive'\n",
        "NO_TRIP_ID = -1"
      ]
    },
    {
      "cell_type": "markdown",
      "metadata": {
        "id": "1EmLgQch9f8q"
      },
      "source": [
        "## Fit driver survival model"
      ]
    },
    {
      "cell_type": "code",
      "execution_count": 28,
      "metadata": {
        "id": "qB75fuJv6Wdu"
      },
      "outputs": [],
      "source": [
        "\n",
        "class Driver:\n",
        "    def __init__(self, name, current_location, start_time):\n",
        "        self.name = name\n",
        "        self.current_location = current_location\n",
        "        # Q: Can we What is the diff between is_available = False and an 'inactive' state?\n",
        "        # A: available means whether a driver is available for accepting new trip;\n",
        "        # not available == inactive or working state\n",
        "        # available == active state\n",
        "        # hence is_available == (state == 'active')\n",
        "        self.is_available = True  # Initially, all drivers are available.\n",
        "        self.start_time = start_time\n",
        "        self.activity_log = OrderedDict() # {timestep1: [state, id, start_location, end_location]} OrderedDict[Int: List]\n",
        "        self.state = 'active'  # 'active', 'working', 'inactive'\n",
        "        self.last_survival_probability = 1  # Initial survival probability is 1 (100%)\n",
        "\n",
        "\n",
        "    def log_activity(self, time_step, activity):\n",
        "        self.activity_log[time_step] = activity\n",
        "\n",
        "    def update_availability(self, current_time):\n",
        "        # Check if the driver's start time has passed and update availability\n",
        "        if current_time >= self.start_time and self.state == 'active':\n",
        "            self.is_available = True\n",
        "        else:\n",
        "            self.is_available = False\n",
        "\n",
        "\n",
        "    def assign_to_trip(self, time_step, trip_request):\n",
        "        self.is_available = False\n",
        "        self.state = 'working'\n",
        "        activity = [self.state, trip_request.ID, trip_request.start_location, trip_request.end_location]\n",
        "        self.log_activity(time_step, activity)\n",
        "\n",
        "    def complete_trip(self, time_step, trip_request):\n",
        "        self.current_location = trip_request.end_location\n",
        "        self.is_available = True\n",
        "        self.state = 'active'\n",
        "        activity = [self.state, trip_request.ID, trip_request.start_location, trip_request.end_location]\n",
        "        self.log_activity(time_step, activity)\n",
        "\n",
        "    def leave_platform(self, time_step):\n",
        "        self.is_available = False\n",
        "        self.state = 'inactive'\n",
        "        activity = [self.state, NO_TRIP_ID, self.current_location, self.current_location]\n",
        "        self.log_activity(time_step, activity)\n",
        "        \n",
        "    def leave_platform_due_to_duration(self, current_time):\n",
        "        WORKING_HOUR_PER_DRIVER = 3600\n",
        "        if current_time - self.start_time >= WORKING_HOUR_PER_DRIVER:\n",
        "            self.leave_platform(current_time)\n",
        "\n",
        "\n",
        "    def return_to_the_platform(self, current_time):\n",
        "        self.current_location = trip_request.end_location\n",
        "        self.is_available = True\n",
        "        self.state = 'active'\n",
        "        activity = [self.state, trip_request.ID, trip_request.start_location, trip_request.end_location]\n",
        "        self.log_activity(time_step, activity)\n",
        "\n",
        "    # def leave_platform_due_to_duration(self, kmf, current_time):\n",
        "    #     # Calculate total time on the platform\n",
        "    #     total_duration = current_time - self.start_time\n",
        "\n",
        "    #     # Calculate the new survival probability\n",
        "    #     new_survival_probability = kmf.predict(total_duration)\n",
        "\n",
        "    #     # Calculate the ratio or difference as the conditional probability\n",
        "    #     if self.last_survival_probability > 0:  # Prevent division by zero\n",
        "    #         conditional_probability = new_survival_probability / self.last_survival_probability\n",
        "    #     else:\n",
        "    #         conditional_probability = 0\n",
        "\n",
        "    #     # Update the last recorded survival probability to the new survival probability\n",
        "    #     self.last_survival_probability = new_survival_probability\n",
        "\n",
        "    #     # Generate a random number between 0 and 1\n",
        "    #     random_chance = random.random()\n",
        "\n",
        "    #     # If the random chance is greater than the survival probability, the driver decides to leave\n",
        "    #     if random_chance > conditional_probability:\n",
        "    #         self.leave_platform(current_time)\n",
        "    #         print(f\"{self.name} has left the platform due to survival probability analysis.\")\n",
        "\n",
        "\n",
        "\n",
        "class TripRequest:\n",
        "    def __init__(self, ID, request_time, duration, start_location, end_location):\n",
        "        self.ID = ID\n",
        "        self.request_time = request_time\n",
        "        self.duration = duration\n",
        "        self.start_location = start_location\n",
        "        self.end_location = end_location\n",
        "        self.assigned_driver = None  # is an instance of Driver class\n",
        "        self.is_completed = False\n",
        "        self.pickup_time = None  # Will be set when assigned\n",
        "        self.assigned_time = None  # Will be set when completed\n",
        "\n",
        "class Simulation:\n",
        "    def __init__(self):\n",
        "        # TODO: use dict {driver_id: driver_instance} to record drivers.\n",
        "        self.active_drivers = OrderedDict()\n",
        "        self.working_drivers = OrderedDict()\n",
        "        self.inactive_drivers = OrderedDict()\n",
        "        self.current_time = 0\n",
        "        self.requesting_trips = []\n",
        "        self.serviced_trips = []\n",
        "        self.travel_time_lookup = {}\n",
        "       # self.add_travel_time_lookup_from_csv()\n",
        "\n",
        "    # # TODO: initialize this lookup in __init__\n",
        "    # def add_travel_time_lookup_from_csv(self, csv_file):\n",
        "    #     # Read the CSV file into a DataFrame\n",
        "    #     data_dict = {(0,0): 2, (0,1): 2, (1,0): 2, (1,1): 2, (2,1): 2, (1,2): 2}\n",
        "    #     data_list = [{'Origin': key[0], 'Destination': key[1], 'Data': value} for key, value in data_dict.items()]\n",
        "    #     # Create the DataFrame\n",
        "    #     df = pd.DataFrame(data_list)\n",
        "    #     # Iterate through the DataFrame rows\n",
        "    #     for index, row in df.iterrows():\n",
        "    #         # Update the travel time lookup dictionary\n",
        "    #         # The key is a tuple of (Origin, Destination)\n",
        "    #         # The value is the travel time 'Data'\n",
        "    #         self.travel_time_lookup[(row['Origin'], row['Destination'])] = int(row['Data'])\n",
        "\n",
        "    def add_travel_time_lookup_from_csv(self, csv_file):\n",
        "        # Read the CSV file into a DataFrame\n",
        "        df = pd.read_csv(csv_file)\n",
        "        \n",
        "        # Iterate through the DataFrame rows\n",
        "        for index, row in df.iterrows():\n",
        "            # Update the travel time lookup dictionary\n",
        "            # The key is a tuple of (Origin, Destination)\n",
        "            # The value is the travel time 'Data'\n",
        "            self.travel_time_lookup[(row['Origin'], row['Destination'])] = int(row['Data'])\n",
        "\n",
        "\n",
        "\n",
        "    # TODO: replace add driver with driver generation function.\n",
        "    # Currently, add_driver is only executed once when Simulation is instantiated. Thus, there is no need to\n",
        "    # tell the driver state, as for a newly instantiated driver, its state is always active.\n",
        "    # Is there any future use of this function?\n",
        "    def add_driver(self, driver):\n",
        "        assert driver.state == 'active'\n",
        "        self.active_drivers[driver.name] = driver\n",
        "        activity = [driver.state, NO_TRIP_ID, driver.current_location, driver.current_location]\n",
        "        driver.log_activity(driver.start_time, activity)\n",
        "\n",
        "    # TODO: remove driver as per driver survival model\n",
        "    def remove_driver(self, driver_name, time_step):\n",
        "        driver = self.active_drivers[driver_name]\n",
        "        driver.leave_platform(time_step)\n",
        "        self.active_drivers.pop(driver_name)\n",
        "        self.inactive_drivers[driver_name] = driver\n",
        "\n",
        "\n",
        "    # TODO: add trip request as per trip generation function\n",
        "    def add_trip_request(self, trip_request):\n",
        "        self.requesting_trips.append(trip_request)\n",
        "\n",
        "    # TODO: seperate driver-trip matching policy from environment class\n",
        "    def assign_driver_to_trip(self, strategy='greedy'):\n",
        "        # Method to select the assignment strategy\n",
        "        if strategy == 'greedy':\n",
        "            self.assign_driver_by_greedy()\n",
        "        elif strategy == 'availability':\n",
        "            self.assign_driver_by_availability()\n",
        "        else:\n",
        "            print(\"Invalid strategy specified.\")\n",
        "\n",
        "    # TODO: seperate driver-trip matching policy from environment class\n",
        "    def assign_driver_by_greedy(self):\n",
        "        # assign driver by minimal travel time from driver location to passenger pickup location\n",
        "        for trip_request in self.requesting_trips:\n",
        "            if trip_request.request_time <= self.current_time and not trip_request.assigned_driver:\n",
        "                best_driver = None\n",
        "                min_travel_time = float('inf')\n",
        "                # list() is shallow copy itself, no need to have another deepcopy\n",
        "                for driver in list(self.active_drivers.values()):\n",
        "                    # Check if the driver is available before considering them for assignment\n",
        "                    if driver.is_available:\n",
        "                        pair = (driver.current_location, trip_request.start_location)\n",
        "                        travel_time_to_pickup = self.travel_time_lookup.get(pair)\n",
        "                        travel_time_to_pickup = 0 if travel_time_to_pickup is None else travel_time_to_pickup\n",
        "                       # assert travel_time_to_pickup is not None, f\"There is no inter-zonal distance in lookup for driver current location and trip request location {(driver.current_location, trip_request.start_location)}\"\n",
        "                        if travel_time_to_pickup < min_travel_time:\n",
        "                            best_driver = driver\n",
        "                            min_travel_time = travel_time_to_pickup\n",
        "\n",
        "                if best_driver:\n",
        "                    # Assign the best driver to the trip\n",
        "                    trip_request.assigned_time = self.current_time\n",
        "                    trip_request.pickup_time = self.current_time + min_travel_time\n",
        "                    trip_request.assigned_driver = best_driver\n",
        "\n",
        "                    best_driver.assign_to_trip(trip_request.pickup_time, trip_request)\n",
        "                    # Since the driver is now working on a trip, they are no longer available\n",
        "                    best_driver.is_available = False\n",
        "\n",
        "                    # Move the driver from active to working drivers\n",
        "                    self.active_drivers.pop(best_driver.name)\n",
        "                    self.working_drivers[best_driver.name] = best_driver\n",
        "\n",
        "                 #   print(f\"Assigned {best_driver.name} to trip request {trip_request.ID} from {trip_request.start_location} to {trip_request.end_location}.\")\n",
        "\n",
        "\n",
        "    # TODO: rename function: set_offline_driver_by_survival_model\n",
        "    def check_active_drivers_duration(self):\n",
        "        # list() is deepcopy itself, no need to have another deepcopy\n",
        "        for driver in list(self.active_drivers.values()):  # Use a copy for safe iteration\n",
        "            driver.leave_platform_due_to_duration( self.current_time)\n",
        "            if driver.state == 'inactive':\n",
        "                self.active_drivers.pop(driver.name)\n",
        "                self.inactive_drivers[driver.name] = driver\n",
        "\n",
        "    # TODO: seperate driver-trip matching policy from environment class\n",
        "    def assign_driver_by_availability(self):\n",
        "        for trip_request in self.requesting_trips:\n",
        "            if trip_request.request_time <= self.current_time and not trip_request.assigned_driver and self.active_drivers:\n",
        "                driver_to_assign = self.active_drivers.pop(0)\n",
        "                travel_time_to_pickup = self.travel_time_lookup.get((driver_to_assign.current_location, trip_request.start_location), 0)\n",
        "                trip_request.assigned_time=self.current_time\n",
        "                trip_request.pickup_time = self.current_time + travel_time_to_pickup\n",
        "                trip_request.assigned_driver = driver_to_assign\n",
        "                driver_to_assign.assign_to_trip(trip_request.pickup_time, trip_request)\n",
        "                self.working_drivers.append(driver_to_assign)\n",
        "             #   print(f\"Assigned {driver_to_assign.name} to trip request {trip_request.ID} from {trip_request.start_location} to {trip_request.end_location}.\")\n",
        "\n",
        "\n",
        "    def update_all_drivers_states(self):\n",
        "        for trip_request in self.requesting_trips[:]:\n",
        "          #  print(\"trip\", trip_request.ID, \"driver\", trip_request.assigned_driver)\n",
        "            if trip_request.assigned_driver and self.current_time >= (trip_request.pickup_time + trip_request.duration):\n",
        "             #   print(\"current_time\", self.current_time)\n",
        "                trip_request.is_completed = True\n",
        "                trip_request.assigned_driver.complete_trip(self.current_time, trip_request)\n",
        "                self.serviced_trips.append(trip_request)\n",
        "                self.requesting_trips.remove(trip_request)\n",
        "                if self.working_drivers.get(trip_request.assigned_driver.name):\n",
        "                    self.working_drivers.pop(trip_request.assigned_driver.name)\n",
        "                    self.active_drivers[trip_request.assigned_driver.name] = trip_request.assigned_driver\n",
        "              #  print(f\"{trip_request.assigned_driver.name} completed trip {trip_request.ID} to {trip_request.end_location}.\")\n",
        "\n",
        "\n",
        "\n",
        "\n",
        "    def run(self, steps):\n",
        "        for _ in range(steps):\n",
        "            # Update each driver's availability based on the current simulation time\n",
        "            #print(\"time\", self.current_time)\n",
        "            self.update_all_drivers_states()\n",
        "\n",
        "            # TODO: is self.update_all_drivers_states() covering driver.update_availability() ?\n",
        "            # Is updating driver instance reflected on driver on self.active_drivers? Yes.\n",
        "            # list() is shallow copy itself\n",
        "            for driver in list(self.active_drivers.values()):\n",
        "                #print(driver.name, driver.is_available)\n",
        "                driver.update_availability(self.current_time)\n",
        "\n",
        "            self.check_active_drivers_duration()  # Check and potentially remove drivers first\n",
        "\n",
        "        #    print(\"active_drivers before assign\", self.active_drivers.keys())\n",
        "        #    print(\"working_drivers before assign\", self.working_drivers.keys())\n",
        "         #   print(\"inactive_drivers before assign\", self.inactive_drivers.keys())\n",
        "\n",
        "            self.assign_driver_to_trip(strategy='greedy')\n",
        "          #  print(\"active_drivers after assign\", self.active_drivers.keys())\n",
        "\n",
        "          \n",
        "           # print(\"working_drivers after assign\", self.working_drivers.keys())\n",
        "          #  print(\"inactive_drivers after assign\", self.inactive_drivers.keys())\n",
        "\n",
        "            self.current_time += 1\n",
        "\n",
        "    def reset(self):\n",
        "        pass\n",
        "\n",
        "    def step(self, action):\n",
        "        pass\n",
        "\n",
        "\n"
      ]
    },
    {
      "cell_type": "code",
      "execution_count": 29,
      "metadata": {
        "colab": {
          "base_uri": "https://localhost:8080/",
          "height": 408
        },
        "id": "6D2axwdF9dC8",
        "outputId": "b9411e8d-adb7-4c9b-978f-ba940a42068e"
      },
      "outputs": [],
      "source": [
        "# Assuming df_shifts is your DataFrame with the shift data\n",
        "# correct_shift_durations=pd.read_csv(r'D:\\OneDrive - University of Toronto\\City Simulation\\2024.02.04 City of Toronto Simulation Platform\\Dataset\\New folder\\Shift.csv')\n",
        "\n",
        "# # Create an event_observed array of ones, with the same length as the duration_minutes column\n",
        "# event_observed = np.ones_like(correct_shift_durations[\"duration_minutes\"])\n",
        "\n",
        "# kmf = KaplanMeierFitter()\n",
        "# kmf.fit(durations=correct_shift_durations[\"duration_minutes\"], event_observed=event_observed)"
      ]
    },
    {
      "cell_type": "markdown",
      "metadata": {
        "id": "CL7xsNkv6Wdv"
      },
      "source": [
        "## instantiate Simulation"
      ]
    },
    {
      "cell_type": "code",
      "execution_count": 30,
      "metadata": {
        "colab": {
          "base_uri": "https://localhost:8080/",
          "height": 211
        },
        "id": "0U4-JJRm6Wdw",
        "outputId": "ee097e20-17ed-484d-97ac-409ada573bb1"
      },
      "outputs": [],
      "source": [
        "simulation_instance = Simulation()\n",
        "simulation_instance.add_travel_time_lookup_from_csv(r'D:\\OneDrive - University of Toronto\\City Simulation\\2024.02.04 City of Toronto Simulation Platform\\Dataset\\New folder\\aivtt.csv')"
      ]
    },
    {
      "cell_type": "markdown",
      "metadata": {
        "id": "OOkOlyuH6Wdw"
      },
      "source": [
        "## Reading the demand CSV"
      ]
    },
    {
      "cell_type": "code",
      "execution_count": 31,
      "metadata": {
        "id": "Y0VWQ3RG6Wdw"
      },
      "outputs": [],
      "source": [
        "def read_trip_requests(csv_file, start_datetime):\n",
        "    # Read the CSV file into a DataFrame\n",
        "    df = pd.read_csv(csv_file)\n",
        "    df.dropna(subset=['requestdatetime','ptctripid','duration','Origin','Destination'], inplace=True)\n",
        "\n",
        "    # Convert 'start_datetime' column to datetime\n",
        "    df['requestdatetime'] = pd.to_datetime(df['requestdatetime'])\n",
        "\n",
        "    # Define the simulation start time as the first 'start_datetime' or a predefined time\n",
        "    simulation_start_time = pd.to_datetime(start_datetime)\n",
        "\n",
        "    # Calculate time steps as the difference from the simulation start time in minutes\n",
        "    df['requestdatetime'] = ((df['requestdatetime'] - simulation_start_time).dt.total_seconds() / 60).astype(int)\n",
        "\n",
        "    # Create a list to hold TripRequest objects\n",
        "    trip_requests = []\n",
        "\n",
        "    # Iterate through the DataFrame rows and create TripRequest objects\n",
        "    for index, row in df.iterrows():\n",
        "        trip_request = TripRequest(\n",
        "            ID=row['ptctripid'],\n",
        "            request_time=row['requestdatetime'],  # Use the calculated start_time_step\n",
        "            duration=int(row['duration']),\n",
        "            start_location=int(row['Origin']),\n",
        "            end_location=int(row['Destination'])\n",
        "        )\n",
        "        trip_requests.append(trip_request)\n",
        "\n",
        "    return trip_requests\n",
        "\n",
        "# Assuming you have the Simulation class defined as before\n",
        "# Initialize the simulation\n",
        "simulation_start_datetime = \"2020-01-02 0:00\"\n",
        "# Read trip requests from the CSV file\n",
        "trip_requests = read_trip_requests(r'D:\\OneDrive - University of Toronto\\City Simulation\\2024.02.04 City of Toronto Simulation Platform\\Dataset\\New folder\\Demand.csv',simulation_start_datetime)\n",
        "# Add each trip request to the simulation\n",
        "for trip_request in trip_requests:\n",
        "    simulation_instance.add_trip_request(trip_request)"
      ]
    },
    {
      "cell_type": "markdown",
      "metadata": {
        "id": "cylENT0E6Wdx"
      },
      "source": [
        "## Reading the Driver CSV"
      ]
    },
    {
      "cell_type": "code",
      "execution_count": 32,
      "metadata": {
        "id": "JxXsjjvm6Wdx"
      },
      "outputs": [],
      "source": [
        "def read_drivers(csv_file, simulation_start_datetime):\n",
        "    # Read the CSV file into a DataFrame\n",
        "    df = pd.read_csv(csv_file)\n",
        "\n",
        "    # Ensure no missing values in critical columns\n",
        "    df.dropna(subset=['start_datetime', 'anon_vin', 'Origin'], inplace=True)\n",
        "\n",
        "    # Convert 'start_datetime' column to datetime\n",
        "    df['start_datetime'] = pd.to_datetime(df['start_datetime'])\n",
        "\n",
        "    # Define the simulation start time as a predefined time\n",
        "    simulation_start_time = pd.to_datetime(simulation_start_datetime)\n",
        "\n",
        "    # Calculate start time in minutes from the simulation start time\n",
        "    df['start_time'] = ((df['start_datetime'] - simulation_start_time).dt.total_seconds() / 60).astype(int)\n",
        "\n",
        "    # Create a list to hold Driver objects\n",
        "    drivers = []\n",
        "\n",
        "    # Iterate through the DataFrame rows and create Driver objects\n",
        "    for index, row in df.iterrows():\n",
        "        driver = Driver(\n",
        "            name=row['anon_vin'],\n",
        "            start_time=row['start_time'],  # Use the calculated start time in minutes\n",
        "            current_location=int(row['Origin'])\n",
        "        )\n",
        "\n",
        "\n",
        "\n",
        "        drivers.append(driver)\n",
        "\n",
        "    return drivers\n",
        "\n",
        "# Assuming you have a simulation instance created somewhere as 'simulation_instance'\n",
        "simulation_start_datetime = \"2020-01-02 0:00\"\n",
        "# drivers = read_drivers(r'D:\\OneDrive - University of Toronto\\City Simulation\\2024.02.04 City of Toronto Simulation Platform\\Dataset\\New folder\\Driver.csv', simulation_start_datetime)\n",
        "\n",
        "drivers = read_drivers(r'D:\\OneDrive - University of Toronto\\City Simulation\\2024.02.04 City of Toronto Simulation Platform\\Dataset\\New folder\\Driver.csv', simulation_start_datetime)\n",
        "\n",
        "# Add each driver to the simulation\n",
        "for driver in drivers:\n",
        "    simulation_instance.add_driver(driver)"
      ]
    },
    {
      "cell_type": "code",
      "execution_count": 33,
      "metadata": {
        "id": "Xn1eAAHd6Wdx",
        "outputId": "4852987f-e4c8-49dc-e637-129bdff1a652"
      },
      "outputs": [],
      "source": [
        "simulation_instance.run(2000)"
      ]
    },
    {
      "cell_type": "markdown",
      "metadata": {
        "id": "V78rXHQ16Wdy"
      },
      "source": [
        "## P1 and Trip Record"
      ]
    },
    {
      "cell_type": "code",
      "execution_count": 34,
      "metadata": {
        "id": "TBE7g-cK6Wdy"
      },
      "outputs": [],
      "source": [
        "import pandas as pd\n",
        "from datetime import datetime, timedelta\n",
        "\n",
        "def format_time_step(time_step):\n",
        "    base_time = datetime(2020, 1, 2, 0, 0)  # Starting point of the simulation\n",
        "    delta = timedelta(minutes=time_step)  # Assuming each time_step represents minutes directly\n",
        "    return (base_time + delta).strftime(\"%Y-%m-%d %H:%M:%S\")\n",
        "\n",
        "all_drivers = {**simulation_instance.active_drivers, **simulation_instance.working_drivers, **simulation_instance.inactive_drivers}\n",
        "\n",
        "p1_periods_data = []\n",
        "for driver_name, driver in all_drivers.items():\n",
        "    last_active_time_step = None  # To track when the last active period started\n",
        "    for time_step, activity in driver.activity_log.items():\n",
        "        state = activity[0]\n",
        "        if state == 'active' and last_active_time_step is None:\n",
        "            # Mark the beginning of a potential idle period\n",
        "            last_active_time_step = time_step\n",
        "        elif state == 'working' and last_active_time_step is not None:\n",
        "            # Found a working period after being active, log the idle period\n",
        "            p1_periods_data.append({\n",
        "                \"anon_vin\": driver.name,\n",
        "                \"start_zone\": last_location,  # Using the last known location before going to 'working' state\n",
        "                \"end_zone\": activity[2],  # Start location of the trip\n",
        "                \"distance\": \"N/A\",\n",
        "                \"event_type\": \"P1 Event\",\n",
        "                \"idle_start_datetime\": format_time_step(last_active_time_step),\n",
        "                \"idle_end_datetime\": format_time_step(time_step)\n",
        "            })\n",
        "            last_active_time_step = None  # Reset after logging the idle period\n",
        "        last_location = activity[3]  # Always update the last known location\n",
        "\n",
        "df_p1_periods = pd.DataFrame(p1_periods_data)\n",
        "df_p1_periods.head()\n",
        "\n",
        "df_p1_periods.to_csv(r'D:\\OneDrive - University of Toronto\\City Simulation\\2024.02.04 City of Toronto Simulation Platform\\Dataset\\New folder\\result\\P2.csv', index = False)"
      ]
    },
    {
      "cell_type": "code",
      "execution_count": 35,
      "metadata": {
        "id": "F-8I8TTs6Wdy"
      },
      "outputs": [],
      "source": [
        "import pandas as pd\n",
        "from datetime import datetime, timedelta\n",
        "\n",
        "# Assuming the format_time_step function definition as before\n",
        "def format_time_step(time_step):\n",
        "    base_time = datetime(2020, 1, 2, 0, 0)  # Adjust according to your simulation's start date and time\n",
        "    delta = timedelta(minutes=time_step)  # Ensure time_step matches the intended unit (e.g., minutes)\n",
        "    return (base_time + delta).strftime(\"%Y-%m-%d %H:%M:%S\")\n",
        "\n",
        "# Combine requesting and serviced trips\n",
        "all_trips = simulation_instance.requesting_trips + simulation_instance.serviced_trips\n",
        "\n",
        "trip_data = []\n",
        "for trip_request in all_trips:\n",
        "    if trip_request.is_completed:\n",
        "        if trip_request.assigned_driver:\n",
        "            trip_data.append({\n",
        "                \"request_ID\": trip_request.ID,\n",
        "                \"anon_vin\": trip_request.assigned_driver.name,\n",
        "                \"start_zone\": trip_request.start_location,\n",
        "                \"end_zone\": trip_request.end_location,\n",
        "                \"distance\": \"N/A\",  # Consider implementing distance calculation if applicable\n",
        "                \"event_type\": \"Complete trip\",\n",
        "                \"request_datetime\": format_time_step(trip_request.request_time),\n",
        "                \"driver_acceptance_datetime\": format_time_step(trip_request.assigned_time),\n",
        "                \"passenger_pickup_datetime\": format_time_step(trip_request.pickup_time),\n",
        "                \"passenger_drop_datetime\": format_time_step(trip_request.pickup_time + trip_request.duration)\n",
        "            })\n",
        "\n",
        "# Convert to DataFrame\n",
        "df_trip_data = pd.DataFrame(trip_data)\n",
        "\n",
        "# Optionally, display the first few rows to check the data\n",
        "df_trip_data.head()\n",
        "\n",
        "\n",
        "df_trip_data.to_csv(r'D:\\OneDrive - University of Toronto\\City Simulation\\2024.02.04 City of Toronto Simulation Platform\\Dataset\\New folder\\result\\trip2.csv', index = False)"
      ]
    },
    {
      "cell_type": "markdown",
      "metadata": {
        "id": "Uldj1qTu6Wdz"
      },
      "source": [
        "## Criteria Output"
      ]
    },
    {
      "cell_type": "code",
      "execution_count": 36,
      "metadata": {
        "id": "tRo7FVqf6Wdz",
        "outputId": "f6bf16cd-fc3f-4f8f-8477-193496a98f8b"
      },
      "outputs": [
        {
          "name": "stdout",
          "output_type": "stream",
          "text": [
            "The average waiting time for each trip is 15.785937868403295 minutes.\n"
          ]
        }
      ],
      "source": [
        "import pandas as pd\n",
        "\n",
        "def calculate_average_waiting_time(csv_file):\n",
        "    # Load the data from CSV\n",
        "    df = pd.read_csv(csv_file)\n",
        "\n",
        "    # Ensure datetime columns are in the correct format\n",
        "    df[\"request_datetime\"] = pd.to_datetime(df[\"request_datetime\"])\n",
        "    df[\"passenger_pickup_datetime\"] = pd.to_datetime(df[\"passenger_pickup_datetime\"])\n",
        "\n",
        "    # Calculate waiting time in minutes\n",
        "    df[\"waiting_time\"] = (df[\"passenger_pickup_datetime\"] - df[\"request_datetime\"]).dt.total_seconds() / 60\n",
        "\n",
        "    # Calculate average waiting time\n",
        "    average_waiting_time = df[\"waiting_time\"].mean()\n",
        "\n",
        "    return average_waiting_time\n",
        "\n",
        "# Example usage\n",
        "trip_data = r'D:\\OneDrive - University of Toronto\\City Simulation\\2024.02.04 City of Toronto Simulation Platform\\Dataset\\New folder\\result\\trip2.csv'\n",
        "average_waiting_time = calculate_average_waiting_time(trip_data)\n",
        "print(f\"The average waiting time for each trip is {average_waiting_time} minutes.\")\n"
      ]
    },
    {
      "cell_type": "code",
      "execution_count": 37,
      "metadata": {
        "id": "uybMbBlE6Wd0",
        "outputId": "fc597ca7-cb80-4541-e5d8-953ea81b5905"
      },
      "outputs": [
        {
          "name": "stdout",
          "output_type": "stream",
          "text": [
            "Mean Idle Time for All Drivers: 11.174602209384819 minutes\n"
          ]
        }
      ],
      "source": [
        "import pandas as pd\n",
        "\n",
        "def calculate_mean_idle_time_all_drivers(csv_file):\n",
        "    # Load the data from CSV\n",
        "    df = pd.read_csv(csv_file)\n",
        "\n",
        "    # Convert datetime columns to the correct format\n",
        "    df[\"idle_start_datetime\"] = pd.to_datetime(df[\"idle_start_datetime\"])\n",
        "    df[\"idle_end_datetime\"] = pd.to_datetime(df[\"idle_end_datetime\"])\n",
        "\n",
        "    # Calculate idle time in minutes for each event\n",
        "    df[\"idle_time_minutes\"] = (df[\"idle_end_datetime\"] - df[\"idle_start_datetime\"]).dt.total_seconds() / 60\n",
        "\n",
        "    # Calculate mean idle time across all drivers\n",
        "    mean_idle_time_all_drivers = df[\"idle_time_minutes\"].mean()\n",
        "\n",
        "    return mean_idle_time_all_drivers\n",
        "\n",
        "# Example usage\n",
        "csv_file_path = r'D:\\OneDrive - University of Toronto\\City Simulation\\2024.02.04 City of Toronto Simulation Platform\\Dataset\\New folder\\result\\P1.csv'\n",
        "mean_idle_time_all_drivers = calculate_mean_idle_time_all_drivers(csv_file_path)\n",
        "print(f\"Mean Idle Time for All Drivers: {mean_idle_time_all_drivers} minutes\")\n"
      ]
    },
    {
      "cell_type": "code",
      "execution_count": 38,
      "metadata": {
        "id": "cy5HkYzh6Wd0",
        "outputId": "8e0f78fb-6952-4a11-ff80-466be41a8a77"
      },
      "outputs": [
        {
          "name": "stdout",
          "output_type": "stream",
          "text": [
            "Utilization Rate: 0.48022861199858\n"
          ]
        }
      ],
      "source": [
        "def calculate_utilization_rate(trips_csv_file, idle_csv_file):\n",
        "    # Load the trips data\n",
        "    trips_df = pd.read_csv(trips_csv_file)\n",
        "    trips_df[\"passenger_pickup_datetime\"] = pd.to_datetime(trips_df[\"passenger_pickup_datetime\"])\n",
        "    trips_df[\"passenger_drop_datetime\"] = pd.to_datetime(trips_df[\"passenger_drop_datetime\"])\n",
        "    trips_df[\"trip_time\"] = (trips_df[\"passenger_drop_datetime\"] - trips_df[\"passenger_pickup_datetime\"]).dt.total_seconds() / 60\n",
        "\n",
        "    # Load the idle data\n",
        "    idle_df = pd.read_csv(idle_csv_file)\n",
        "    idle_df[\"idle_start_datetime\"] = pd.to_datetime(idle_df[\"idle_start_datetime\"])\n",
        "    idle_df[\"idle_end_datetime\"] = pd.to_datetime(idle_df[\"idle_end_datetime\"])\n",
        "    idle_df[\"idle_time\"] = (idle_df[\"idle_end_datetime\"] - idle_df[\"idle_start_datetime\"]).dt.total_seconds() / 60\n",
        "\n",
        "    # Calculate total trip time and total idle time\n",
        "    total_trip_time = trips_df[\"trip_time\"].sum()\n",
        "    total_idle_time = idle_df[\"idle_time\"].sum()\n",
        "\n",
        "    # Calculate utilization rate\n",
        "    utilization_rate = total_trip_time / (total_trip_time + total_idle_time)\n",
        "\n",
        "    return utilization_rate\n",
        "\n",
        "# Example usage\n",
        "trips_csv_file_path = r'D:\\OneDrive - University of Toronto\\City Simulation\\2024.02.04 City of Toronto Simulation Platform\\Dataset\\New folder\\result\\trip2.csv'\n",
        "idle_csv_file_path = r'D:\\OneDrive - University of Toronto\\City Simulation\\2024.02.04 City of Toronto Simulation Platform\\Dataset\\New folder\\result\\P2.csv'\n",
        "utilization_rate = calculate_utilization_rate(trips_csv_file_path, idle_csv_file_path)\n",
        "print(f\"Utilization Rate: {utilization_rate}\")\n"
      ]
    },
    {
      "cell_type": "markdown",
      "metadata": {},
      "source": [
        "## Fine-tune the model"
      ]
    }
  ],
  "metadata": {
    "colab": {
      "provenance": []
    },
    "kernelspec": {
      "display_name": "base",
      "language": "python",
      "name": "python3"
    },
    "language_info": {
      "codemirror_mode": {
        "name": "ipython",
        "version": 3
      },
      "file_extension": ".py",
      "mimetype": "text/x-python",
      "name": "python",
      "nbconvert_exporter": "python",
      "pygments_lexer": "ipython3",
      "version": "3.10.14"
    }
  },
  "nbformat": 4,
  "nbformat_minor": 0
}
