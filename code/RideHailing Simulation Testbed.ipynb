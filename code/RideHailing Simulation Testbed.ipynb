{
  "cells": [
    {
      "cell_type": "markdown",
      "metadata": {
        "id": "b2jF-yhC6WdV"
      },
      "source": [
        "## Ride-hailing Simulation"
      ]
    },
    {
      "cell_type": "code",
      "execution_count": 23,
      "metadata": {
        "id": "tSs-vyhU6llB"
      },
      "outputs": [],
      "source": [
        "from collections import OrderedDict\n",
        "import random\n",
        "import pandas as pd\n",
        "import numpy as np\n",
        "import pandas as pd\n",
        "import matplotlib.pyplot as plt\n",
        "import numpy as np\n",
        "from lifelines import KaplanMeierFitter\n",
        "import pandas as pd\n",
        "import matplotlib.pyplot as plt\n",
        "from datetime import datetime, timedelta\n",
        "\n",
        "ride_hailing_dataset_path = r'D:\\OneDrive - University of Toronto\\City Simulation\\2024.02.04 City of Toronto Simulation Platform\\Dataset\\New folder\\Ride_hailing_Dataset.csv'\n",
        "ACTIVE = 'active'\n",
        "WORKING = 'working'\n",
        "INACTIVE = 'inactive'\n",
        "NO_TRIP_ID = -1"
      ]
    },
    {
      "cell_type": "markdown",
      "metadata": {},
      "source": [
        "### Time dependent Cox Model"
      ]
    },
    {
      "cell_type": "code",
      "execution_count": 25,
      "metadata": {},
      "outputs": [
        {
          "name": "stderr",
          "output_type": "stream",
          "text": [
            "c:\\Users\\xshuo\\anaconda3\\lib\\site-packages\\lifelines\\utils\\__init__.py:1033: RuntimeWarning: There exist rows in your DataFrame with start and stop both at time 0:\n",
            "\n",
            "        >>> df.loc[(df[start_col] == df[stop_col]) & (df[start_col] == 0)]\n",
            "\n",
            "        These can be safely dropped, which should improve performance.\n",
            "\n",
            "        >>> df = df.loc[~((df[start_col] == df[stop_col]) & (df[start_col] == 0))]\n",
            "  warnings.warn(warning_text, RuntimeWarning)\n"
          ]
        },
        {
          "name": "stdout",
          "output_type": "stream",
          "text": [
            "Iteration 1: norm_delta = 1.07e-01, step_size = 0.9500, log_lik = -640088.38930, newton_decrement = 1.19e+02, seconds_since_start = 1.8\n",
            "Iteration 2: norm_delta = 2.37e-03, step_size = 0.9500, log_lik = -639971.69479, newton_decrement = 3.76e-01, seconds_since_start = 3.9\n",
            "Iteration 3: norm_delta = 1.19e-04, step_size = 0.9500, log_lik = -639971.31905, newton_decrement = 9.80e-04, seconds_since_start = 6.1\n",
            "Iteration 4: norm_delta = 6.28e-06, step_size = 1.0000, log_lik = -639971.31807, newton_decrement = 2.45e-06, seconds_since_start = 8.2\n",
            "Iteration 5: norm_delta = 3.69e-11, step_size = 1.0000, log_lik = -639971.31807, newton_decrement = 3.61e-17, seconds_since_start = 10.4\n",
            "Convergence completed after 5 iterations.\n"
          ]
        }
      ],
      "source": [
        "from collections import OrderedDict\n",
        "import random\n",
        "import pandas as pd\n",
        "import numpy as np\n",
        "import pandas as pd\n",
        "import matplotlib.pyplot as plt\n",
        "\n",
        "ride_hailing_dataset_path = r'D:\\OneDrive - University of Toronto\\City Simulation\\2024.02.04 City of Toronto Simulation Platform\\Dataset\\New folder\\Ride_hailing_Dataset.csv'\n",
        "ACTIVE = 'active'\n",
        "WORKING = 'working'\n",
        "INACTIVE = 'inactive'\n",
        "NO_TRIP_ID = -1\n",
        "import numpy as np\n",
        "from lifelines import CoxTimeVaryingFitter\n",
        "\n",
        "filtered_data=pd.read_csv(r'D:\\OneDrive - University of Toronto\\City Simulation\\2024.02.04 City of Toronto Simulation Platform\\Dataset\\New folder\\Shifted_Data.csv')\n",
        "#filtered_data=filtered_data.drop(columns=['trip_request','distance_y','cumulative_fare'])\n",
        "\n",
        "#filtered_data['total_trips'] = filtered_data.groupby('ID')['trip_request'].cumsum()\n",
        "filtered_data=filtered_data.drop(columns=['trip_request','distance_y','fare'])\n",
        "\n",
        "# Initialize the CoxTimeVaryingFitter\n",
        "ctv = CoxTimeVaryingFitter()\n",
        "\n",
        "# Fit the model\n",
        "try:\n",
        "    ctv.fit(filtered_data, id_col='ID', event_col='event', start_col='start', stop_col='stop', show_progress=True)\n",
        "\n",
        "except Exception as e:\n",
        "    print(f\"Error fitting the Cox model: {e}\")\n",
        "\n",
        "\n",
        "def calculate_survival_probability(duration, shifted_fare, shifted_trip_request, ctv):\n",
        "    \"\"\"\n",
        "    Calculate the survival probability for a driver given the duration on the platform, \n",
        "    fare earned, and trip requests using a fitted Cox time-dependent model.\n",
        "\n",
        "    Parameters:\n",
        "    duration (float): The duration (in hours) the driver has been on the platform.\n",
        "    shifted_fare (float): The fare amount earned by the driver.\n",
        "    shifted_trip_request (int): The number of trip requests completed by the driver.\n",
        "    ctv (CoxTimeVaryingFitter): The fitted Cox time-dependent model.\n",
        "\n",
        "    Returns:\n",
        "    float: The survival probability for the given parameters.\n",
        "    \"\"\"\n",
        "    # Coefficients from the Cox model\n",
        "    coef_fare = 0.01\n",
        "    coef_trip_request = -0.18\n",
        "\n",
        "    # Calculate the linear predictor\n",
        "    eta = (coef_fare * shifted_fare) + (coef_trip_request * shifted_trip_request)\n",
        "\n",
        "    # Compute the hazard ratio\n",
        "    hazard_ratio = np.exp(eta)\n",
        "\n",
        "    # Obtain the baseline survival probability at the given duration\n",
        "    # Make sure duration is within the range of the baseline survival function\n",
        "    S0_t = ctv.baseline_survival_.iloc[duration].values[0]\n",
        "\n",
        "    # Calculate the survival probability\n",
        "    survival_probability = S0_t ** hazard_ratio\n",
        "\n",
        "    return survival_probability*0.7\n",
        "\n",
        "# Example usage:\n",
        "# Assuming `ctv` is the fitted CoxTimeVaryingFitter model\n",
        "#duration = 120\n",
        "#shifted_fare = 0\n",
        "#shifted_trip_request = 0\n",
        "#prob = calculate_survival_probability(duration, shifted_fare, shifted_trip_request, ctv)\n",
        "#print(f\"Survival Probability: {prob}\")\n"
      ]
    },
    {
      "cell_type": "markdown",
      "metadata": {
        "id": "oVmfnxBt6Wdr"
      },
      "source": [
        "## add interzonal time"
      ]
    },
    {
      "cell_type": "markdown",
      "metadata": {
        "id": "bl1iC0LX6Wdt"
      },
      "source": [
        "## define class Driver, TripRequest, Simulation"
      ]
    },
    {
      "cell_type": "code",
      "execution_count": 10,
      "metadata": {},
      "outputs": [],
      "source": [
        "from collections import OrderedDict\n",
        "import random\n",
        "import pandas as pd\n",
        "import numpy as np\n",
        "import pandas as pd\n",
        "import matplotlib.pyplot as plt\n",
        "\n",
        "ride_hailing_dataset_path = r'D:\\OneDrive - University of Toronto\\City Simulation\\2024.02.04 City of Toronto Simulation Platform\\Dataset\\New folder\\Ride_hailing_Dataset.csv'\n",
        "ACTIVE = 'active'\n",
        "WORKING = 'working'\n",
        "INACTIVE = 'inactive'\n",
        "NO_TRIP_ID = -1"
      ]
    },
    {
      "cell_type": "markdown",
      "metadata": {
        "id": "1EmLgQch9f8q"
      },
      "source": [
        "## Fit driver survival model"
      ]
    },
    {
      "cell_type": "code",
      "execution_count": 6,
      "metadata": {
        "id": "qB75fuJv6Wdu"
      },
      "outputs": [],
      "source": [
        "class Driver:\n",
        "    def __init__(self, name, current_location, start_time):\n",
        "        self.name = name\n",
        "        self.current_location = current_location\n",
        "        # Q: Can we What is the diff between is_available = False and an 'inactive' state?\n",
        "        # A: available means whether a driver is available for accepting new trip;\n",
        "        # not available == inactive or working state\n",
        "        # available == active state\n",
        "        # hence is_available == (state == 'active')\n",
        "        self.is_available = False  # Initially, all drivers are available.\n",
        "        self.start_time = start_time\n",
        "        self.activity_log = OrderedDict() # {timestep1: [state, id, start_location, end_location]} OrderedDict[Int: List]\n",
        "        self.state = 'active'  # 'active', 'working', 'inactive'\n",
        "        self.last_survival_probability = 1.0  # Initial survival probability is 1 (100%)\n",
        "        self.fare = 0.0  # Fare earned by the driver\n",
        "        self.trip_requests = 0\n",
        "\n",
        "    def log_activity(self, time_step, activity):\n",
        "        self.activity_log[time_step] = activity\n",
        "\n",
        "    def update_availability(self, current_time):\n",
        "        # Check if the driver's start time has passed and update availability\n",
        "        if current_time >= self.start_time and self.state == 'active':\n",
        "            self.is_available = True\n",
        "        else:\n",
        "            self.is_available = False\n",
        "\n",
        "\n",
        "    def calculate_survival_probability(duration, shifted_fare, shifted_trip_request, ctv):\n",
        "        # Coefficients from the Cox model\n",
        "        coef_fare = 0.01\n",
        "        coef_trip_request = -0.18\n",
        "\n",
        "        # Calculate the linear predictor\n",
        "        eta = (coef_fare * shifted_fare) + (coef_trip_request * shifted_trip_request)\n",
        "\n",
        "        # Compute the hazard ratio\n",
        "        hazard_ratio = np.exp(eta)\n",
        "\n",
        "        # Obtain the baseline survival probability at the given duration\n",
        "        # Make sure duration is within the range of the baseline survival function\n",
        "        S0_t = ctv.baseline_survival_.iloc[duration].values[0]\n",
        "        # Calculate the survival probability\n",
        "        survival_probability = S0_t ** hazard_ratio\n",
        "\n",
        "        return survival_probability*0.6\n",
        "\n",
        "\n",
        "    def assign_to_trip(self, time_step, trip_request):\n",
        "        self.is_available = False\n",
        "        self.state = 'working'\n",
        "        activity = [self.state, trip_request.ID, trip_request.start_location, trip_request.end_location]\n",
        "        self.trip_requests=1\n",
        "        self.fare = 0\n",
        "        self.trip_requests = 0\n",
        "        \n",
        "        self.log_activity(time_step, activity)\n",
        "\n",
        "    def complete_trip(self, time_step, trip_request):\n",
        "        self.current_location = trip_request.end_location\n",
        "        self.is_available = True\n",
        "        self.state = 'active'\n",
        "\n",
        "        \n",
        "        self.fare = trip_request.fare\n",
        "        self.trip_requests = 1\n",
        "      \n",
        "\n",
        "\n",
        "        activity = [self.state, trip_request.ID, trip_request.start_location, trip_request.end_location]\n",
        "        self.log_activity(time_step, activity)\n",
        "        # Update survival probability\n",
        "       \n",
        "     \n",
        "\n",
        "\n",
        "    def leave_platform(self, time_step):\n",
        "        self.is_available = False\n",
        "        self.state = 'inactive'\n",
        "        activity = [self.state, \"NO_TRIP_ID\", self.current_location, self.current_location]\n",
        "        self.log_activity(time_step, activity)\n",
        "         # Log the transition from active to inactive\n",
        "       \n",
        "        \n",
        "    # def leave_platform_due_to_duration(self, current_time):\n",
        "    #     WORKING_HOUR_PER_DRIVER = 20\n",
        "    #     if current_time - self.start_time >= WORKING_HOUR_PER_DRIVER:\n",
        "    #         self.leave_platform(current_time)\n",
        "\n",
        "\n",
        "#   #  def return_to_the_platform(self, current_time):\n",
        "#         self.current_location = trip_request.end_location\n",
        "#         self.is_available = True\n",
        "#         self.state = 'active'\n",
        "#         activity = [self.state, trip_request.ID, trip_request.start_location, trip_request.end_location]\n",
        "#         self.log_activity(time_step, activity)\n",
        "\n",
        "    # def decide_to_accept_trip(self, trip_request):\n",
        "    #     # Implement logic for the driver to decide whether to accept or reject the trip\n",
        "    #     # For example, we can use a random decision here. You can replace this with more complex logic.\n",
        "    #     decision = random.choice([True, False])\n",
        "    #     return decision\n",
        "    \n",
        "    \n",
        "\n",
        "    def leave_platform_due_to_duration(self,ctv, current_time):\n",
        "        # Calculate total time on the platform in the correct units (hours)\n",
        "        total_duration = current_time - self.start_time\n",
        "        print('current_time',current_time)\n",
        "        print('self.start_time',self.start_time)\n",
        "        print(total_duration)\n",
        "        # Calculate the new survival probability using the Cox model\n",
        "        new_survival_probability = calculate_survival_probability(total_duration, self.fare, self.trip_requests, ctv)\n",
        "\n",
        "        # Calculate the conditional probability\n",
        "        if self.last_survival_probability > 0:  # Prevent division by zero\n",
        "            conditional_probability = new_survival_probability / self.last_survival_probability\n",
        "        else:\n",
        "            conditional_probability = 1  # If last survival probability is zero, set to 1 (certain leave)\n",
        "\n",
        "        # Update the last recorded survival probability to the new survival probability\n",
        "        self.last_survival_probability = new_survival_probability\n",
        "\n",
        "        # Generate a random number between 0 and 1\n",
        "        random_chance = np.random.rand()\n",
        "\n",
        "        # If the random chance is greater than the conditional probability, the driver decides to leave\n",
        "        if random_chance > conditional_probability:\n",
        "            self.leave_platform(current_time)\n",
        "            print(f\"{self.name} has left the platform due to survival probability analysis.\")\n",
        "\n",
        "\n",
        "\n",
        "class TripRequest:\n",
        "    def __init__(self, ID, request_time, duration, start_location, end_location, distance, fare):\n",
        "        self.ID = ID\n",
        "        self.request_time = request_time\n",
        "        self.duration = duration\n",
        "        self.start_location = start_location\n",
        "        self.end_location = end_location\n",
        "        self.assigned_driver = None  # is an instance of Driver class\n",
        "        self.is_completed = False\n",
        "        self.pickup_time = None  # Will be set when assigned\n",
        "        self.assigned_time = None  # Will be set when completed\n",
        "        self.distance = distance  # Will be set when completed\n",
        "        self.fare = distance*1.174+9.248  # Will be set when completed\n",
        "        self.is_canceled = False\n",
        "\n",
        "class Simulation:\n",
        "    def __init__(self):\n",
        "        # TODO: use dict {driver_id: driver_instance} to record drivers.\n",
        "        self.active_drivers = OrderedDict()\n",
        "        self.working_drivers = OrderedDict()\n",
        "        self.inactive_drivers = OrderedDict()\n",
        "        self.current_time = 0\n",
        "        self.requesting_trips = []\n",
        "        self.serviced_trips = []\n",
        "        self.travel_time_lookup = {}\n",
        "       # self.add_travel_time_lookup_from_csv()\n",
        "\n",
        "\n",
        "    def add_travel_time_lookup_from_csv(self, csv_file):\n",
        "        # Read the CSV file into a DataFrame\n",
        "        df = pd.read_csv(csv_file)\n",
        "        \n",
        "        # Iterate through the DataFrame rows\n",
        "        for index, row in df.iterrows():\n",
        "            # Update the travel time lookup dictionary\n",
        "            # The key is a tuple of (Origin, Destination)\n",
        "            # The value is the travel time 'Data'\n",
        "            self.travel_time_lookup[(row['Origin'], row['Destination'])] = int(row['Data'])\n",
        "\n",
        "\n",
        "\n",
        "    # TODO: replace add driver with driver generation function.\n",
        "    # Currently, add_driver is only executed once when Simulation is instantiated. Thus, there is no need to\n",
        "    # tell the driver state, as for a newly instantiated driver, its state is always active.\n",
        "    # Is there any future use of this function?\n",
        "    def add_driver(self, driver):\n",
        "        assert driver.state == 'active'\n",
        "        self.active_drivers[driver.name] = driver\n",
        "        activity = [driver.state, NO_TRIP_ID, driver.current_location, driver.current_location]\n",
        "        driver.log_activity(driver.start_time, activity)\n",
        "\n",
        "\n",
        "  #  def add_driver(self, driver):\n",
        "   #     if driver.name in self.inactive_drivers:\n",
        "   #         # Reactivate the driver if they are in the inactive drivers list\n",
        "   #         reactivated_driver = self.inactive_drivers.pop(driver.name)\n",
        "   #         reactivated_driver.state = 'active'\n",
        "   #         reactivated_driver.is_available = True\n",
        "   #         self.active_drivers[reactivated_driver.name] = reactivated_driver\n",
        "   #         print(f\"{reactivated_driver.name} has been reactivated.\")\n",
        "   #     else:\n",
        "    #        assert driver.state == 'active'\n",
        "    #        self.active_drivers[driver.name] = driver\n",
        "    #        activity = [driver.state, \"NO_TRIP_ID\", driver.current_location, driver.current_location]\n",
        "    #        driver.log_activity(driver.start_time, activity)\n",
        "\n",
        "            \n",
        "    # TODO: remove driver as per driver survival model\n",
        "    def remove_driver(self, driver_name, time_step):\n",
        "        driver = self.active_drivers[driver_name]\n",
        "        driver.leave_platform( time_step)\n",
        "        self.active_drivers.pop(driver_name)\n",
        "        self.inactive_drivers[driver_name] = driver\n",
        "\n",
        "\n",
        "    # TODO: add trip request as per trip generation function\n",
        "    def add_trip_request(self, trip_request):\n",
        "        self.requesting_trips.append(trip_request)\n",
        "\n",
        "    # TODO: seperate driver-trip matching policy from environment class\n",
        "    def assign_driver_to_trip(self, strategy='greedy'):\n",
        "        # Method to select the assignment strategy\n",
        "        if strategy == 'greedy':\n",
        "            self.assign_driver_by_greedy()\n",
        "        elif strategy == 'availability':\n",
        "            self.assign_driver_by_availability()\n",
        "        else:\n",
        "            print(\"Invalid strategy specified.\")\n",
        "\n",
        "    # TODO: seperate driver-trip matching policy from environment class\n",
        "    def assign_driver_by_greedy(self):\n",
        "        # assign driver by minimal travel time from driver location to passenger pickup location\n",
        "        for trip_request in self.requesting_trips:\n",
        "        # Cancel trip requests that have been waiting for over 15 minutes\n",
        "            if self.current_time - trip_request.request_time > 15:\n",
        "                trip_request.is_canceled = True\n",
        "                continue\n",
        "\n",
        "            if trip_request.request_time <= self.current_time and not trip_request.assigned_driver and not trip_request.is_canceled:\n",
        "                best_driver = None\n",
        "                min_travel_time = float('inf')\n",
        "\n",
        "\n",
        "                for driver in list(self.active_drivers.values()):\n",
        "                    # Check if the driver is available before considering them for assignment\n",
        "                    if driver.is_available:\n",
        "                        pair = (driver.current_location, trip_request.start_location)\n",
        "                        travel_time_to_pickup = self.travel_time_lookup.get(pair)\n",
        "                        travel_time_to_pickup = 0 if travel_time_to_pickup is None else travel_time_to_pickup\n",
        "                       # assert travel_time_to_pickup is not None, f\"There is no inter-zonal distance in lookup for driver current location and trip request location {(driver.current_location, trip_request.start_location)}\"\n",
        "                        if travel_time_to_pickup < min_travel_time:\n",
        "                            best_driver = driver\n",
        "                            min_travel_time = travel_time_to_pickup\n",
        "\n",
        "                if best_driver:\n",
        "                    # Assign the best driver to the trip\n",
        "                    trip_request.assigned_time = self.current_time\n",
        "                    trip_request.pickup_time = self.current_time + min_travel_time\n",
        "                    trip_request.assigned_driver = best_driver\n",
        "\n",
        "                    best_driver.assign_to_trip(trip_request.pickup_time, trip_request)\n",
        "                    # Since the driver is now working on a trip, they are no longer available\n",
        "                    best_driver.is_available = False\n",
        "\n",
        "                    # Move the driver from active to working drivers\n",
        "                    self.active_drivers.pop(best_driver.name)\n",
        "                    self.working_drivers[best_driver.name] = best_driver\n",
        "\n",
        "                 #   print(f\"Assigned {best_driver.name} to trip request {trip_request.ID} from {trip_request.start_location} to {trip_request.end_location}.\")\n",
        "\n",
        "\n",
        "    # TODO: rename function: set_offline_driver_by_survival_model\n",
        "    def check_active_drivers_duration(self):\n",
        "        # list() is deepcopy itself, no need to have another deepcopy\n",
        "        for driver in list(self.active_drivers.values()):  # Use a copy for safe iteration\n",
        "            if driver.is_available:\n",
        "                driver.leave_platform_due_to_duration(ctv, self.current_time)\n",
        "                \n",
        "            if driver.state == 'inactive':\n",
        "                self.active_drivers.pop(driver.name)\n",
        "                self.inactive_drivers[driver.name] = driver\n",
        "\n",
        "    # TODO: seperate driver-trip matching policy from environment class\n",
        "    def assign_driver_by_availability(self):\n",
        "        for trip_request in self.requesting_trips:\n",
        "            if trip_request.request_time <= self.current_time and not trip_request.assigned_driver and self.active_drivers:\n",
        "                driver_to_assign = self.active_drivers.pop(0)\n",
        "                travel_time_to_pickup = self.travel_time_lookup.get((driver_to_assign.current_location, trip_request.start_location), 0)\n",
        "                trip_request.assigned_time=self.current_time\n",
        "                trip_request.pickup_time = self.current_time + travel_time_to_pickup\n",
        "                trip_request.assigned_driver = driver_to_assign\n",
        "                driver_to_assign.assign_to_trip(trip_request.pickup_time, trip_request)\n",
        "                self.working_drivers.append(driver_to_assign)\n",
        "             #   print(f\"Assigned {driver_to_assign.name} to trip request {trip_request.ID} from {trip_request.start_location} to {trip_request.end_location}.\")\n",
        "\n",
        "\n",
        "    def update_all_drivers_states(self):\n",
        "        for trip_request in self.requesting_trips[:]:\n",
        "          #  print(\"trip\", trip_request.ID, \"driver\", trip_request.assigned_driver)\n",
        "            if trip_request.assigned_driver and self.current_time >= (trip_request.pickup_time + trip_request.duration):\n",
        "             #   print(\"current_time\", self.current_time)\n",
        "                trip_request.is_completed = True\n",
        "                trip_request.assigned_driver.complete_trip(self.current_time, trip_request)\n",
        "                self.serviced_trips.append(trip_request)\n",
        "                self.requesting_trips.remove(trip_request)\n",
        "                if self.working_drivers.get(trip_request.assigned_driver.name):\n",
        "                    self.working_drivers.pop(trip_request.assigned_driver.name)\n",
        "                    self.active_drivers[trip_request.assigned_driver.name] = trip_request.assigned_driver\n",
        "              #  print(f\"{trip_request.assigned_driver.name} completed trip {trip_request.ID} to {trip_request.end_location}.\")\n",
        "\n",
        "\n",
        "\n",
        "\n",
        "    def run(self, steps):\n",
        "        for _ in range(steps):\n",
        "            # Update each driver's availability based on the current simulation time\n",
        "            #print(\"time\", self.current_time)\n",
        "            self.update_all_drivers_states()\n",
        "            # TODO: is self.update_all_drivers_states() covering driver.update_availability() ?\n",
        "            # Is updating driver instance reflected on driver on self.active_drivers? Yes.\n",
        "            # list() is shallow copy itself\n",
        "            for driver in list(self.active_drivers.values()):\n",
        "                #print(driver.name, driver.is_available)\n",
        "                driver.update_availability(self.current_time)\n",
        "\n",
        "            self.check_active_drivers_duration()  # Check and potentially remove drivers first\n",
        "\n",
        "        #    print(\"active_drivers before assign\", self.active_drivers.keys())\n",
        "        #    print(\"working_drivers before assign\", self.working_drivers.keys())\n",
        "         #   print(\"inactive_drivers before assign\", self.inactive_drivers.keys())\n",
        "\n",
        "            self.assign_driver_to_trip(strategy='greedy')\n",
        "          #  print(\"active_drivers after assign\", self.active_drivers.keys())\n",
        "\n",
        "          \n",
        "           # print(\"working_drivers after assign\", self.working_drivers.keys())\n",
        "          #  print(\"inactive_drivers after assign\", self.inactive_drivers.keys())\n",
        "\n",
        "            self.current_time += 1\n",
        "\n",
        "    def reset(self):\n",
        "        pass\n",
        "\n",
        "    def step(self, action):\n",
        "        pass\n",
        "\n",
        "\n"
      ]
    },
    {
      "cell_type": "markdown",
      "metadata": {
        "id": "CL7xsNkv6Wdv"
      },
      "source": [
        "## instantiate Simulation"
      ]
    },
    {
      "cell_type": "code",
      "execution_count": 7,
      "metadata": {
        "colab": {
          "base_uri": "https://localhost:8080/",
          "height": 211
        },
        "id": "0U4-JJRm6Wdw",
        "outputId": "ee097e20-17ed-484d-97ac-409ada573bb1"
      },
      "outputs": [],
      "source": [
        "simulation_instance = Simulation()\n",
        "simulation_instance.add_travel_time_lookup_from_csv(r'D:\\OneDrive - University of Toronto\\City Simulation\\2024.02.04 City of Toronto Simulation Platform\\Dataset\\New folder\\aivtt.csv')"
      ]
    },
    {
      "cell_type": "markdown",
      "metadata": {
        "id": "OOkOlyuH6Wdw"
      },
      "source": [
        "## Reading the demand CSV"
      ]
    },
    {
      "cell_type": "code",
      "execution_count": 8,
      "metadata": {
        "id": "Y0VWQ3RG6Wdw"
      },
      "outputs": [],
      "source": [
        "def read_trip_requests(csv_file, start_datetime):\n",
        "    # Read the CSV file into a DataFrame\n",
        "    df = pd.read_csv(csv_file)\n",
        "    df.dropna(subset=['requestdatetime','ptctripid','duration','Origin','Destination'], inplace=True)\n",
        "\n",
        "    # Convert 'start_datetime' column to datetime\n",
        "    df['requestdatetime'] = pd.to_datetime(df['requestdatetime'])\n",
        "\n",
        "    # Define the simulation start time as the first 'start_datetime' or a predefined time\n",
        "    simulation_start_time = pd.to_datetime(start_datetime)\n",
        "\n",
        "    # Calculate time steps as the difference from the simulation start time in minutes\n",
        "    df['requestdatetime'] = ((df['requestdatetime'] - simulation_start_time).dt.total_seconds() / 60).astype(int)\n",
        "\n",
        "    # Create a list to hold TripRequest objects\n",
        "    trip_requests = []\n",
        "\n",
        "    # Iterate through the DataFrame rows and create TripRequest objects\n",
        "    for index, row in df.iterrows():\n",
        "        trip_request = TripRequest(\n",
        "            ID=row['ptctripid'],\n",
        "            request_time=row['requestdatetime'],  # Use the calculated start_time_step\n",
        "            duration=int(row['duration']),\n",
        "            start_location=int(row['Origin']),\n",
        "            end_location=int(row['Destination']),\n",
        "            distance = float(row['distance_y']),  # Will be set when completed\n",
        "            fare = float(row['fareamount'])  # Will be set when completed\n",
        "        )\n",
        "        trip_requests.append(trip_request)\n",
        "\n",
        "    return trip_requests\n",
        "\n",
        "# Assuming you have the Simulation class defined as before\n",
        "# Initialize the simulation\n",
        "simulation_start_datetime = \"2020-01-02 0:00\"\n",
        "# Read trip requests from the CSV file\n",
        "trip_requests = read_trip_requests(r'D:\\OneDrive - University of Toronto\\City Simulation\\2024.02.04 City of Toronto Simulation Platform\\Dataset\\New folder\\Demand.csv',simulation_start_datetime)\n",
        "# Add each trip request to the simulation\n",
        "for trip_request in trip_requests:\n",
        "    simulation_instance.add_trip_request(trip_request)"
      ]
    },
    {
      "cell_type": "markdown",
      "metadata": {
        "id": "cylENT0E6Wdx"
      },
      "source": [
        "## Reading the Driver CSV"
      ]
    },
    {
      "cell_type": "code",
      "execution_count": null,
      "metadata": {
        "id": "JxXsjjvm6Wdx"
      },
      "outputs": [],
      "source": [
        "def read_drivers(csv_file, simulation_start_datetime):\n",
        "    # Read the CSV file into a DataFrame\n",
        "    df = pd.read_csv(csv_file)\n",
        "\n",
        "    # Ensure no missing values in critical columns\n",
        "    df.dropna(subset=['start_datetime', 'anon_vin', 'Origin'], inplace=True)\n",
        "\n",
        "    # Convert 'start_datetime' column to datetime\n",
        "    df['start_datetime'] = pd.to_datetime(df['start_datetime'])\n",
        "\n",
        "    # Define the simulation start time as a predefined time\n",
        "    simulation_start_time = pd.to_datetime(simulation_start_datetime)\n",
        "\n",
        "    # Calculate start time in minutes from the simulation start time\n",
        "    df['start_time'] = ((df['start_datetime'] - simulation_start_time).dt.total_seconds() / 60).astype(int)\n",
        "\n",
        "    # Create a list to hold Driver objects\n",
        "    drivers = []\n",
        "\n",
        "    # Iterate through the DataFrame rows and create Driver objects\n",
        "    for index, row in df.iterrows():\n",
        "        driver = Driver(\n",
        "            name=row['anon_vin'],\n",
        "            start_time=row['start_time'],  # Use the calculated start time in minutes\n",
        "            current_location=int(row['Origin'])\n",
        "        )\n",
        "\n",
        "        drivers.append(driver)\n",
        "\n",
        "    return drivers\n",
        "\n",
        "# Assuming you have a simulation instance created somewhere as 'simulation_instance'\n",
        "simulation_start_datetime = \"2020-01-02 0:00\"\n",
        "drivers = read_drivers(r'D:\\OneDrive - University of Toronto\\City Simulation\\2024.02.04 City of Toronto Simulation Platform\\Dataset\\New folder\\driver1.csv', simulation_start_datetime)\n",
        "\n",
        "# Add each driver to the simulation\n",
        "for driver in drivers:\n",
        "    simulation_instance.add_driver(driver)"
      ]
    },
    {
      "cell_type": "markdown",
      "metadata": {},
      "source": [
        "# Simulation"
      ]
    },
    {
      "cell_type": "code",
      "execution_count": null,
      "metadata": {},
      "outputs": [
        {
          "ename": "NameError",
          "evalue": "name 'simulation_instance' is not defined",
          "output_type": "error",
          "traceback": [
            "\u001b[1;31m---------------------------------------------------------------------------\u001b[0m",
            "\u001b[1;31mNameError\u001b[0m                                 Traceback (most recent call last)",
            "Cell \u001b[1;32mIn[1], line 1\u001b[0m\n\u001b[1;32m----> 1\u001b[0m \u001b[43msimulation_instance\u001b[49m\u001b[38;5;241m.\u001b[39mrun(\u001b[38;5;241m1\u001b[39m)\n",
            "\u001b[1;31mNameError\u001b[0m: name 'simulation_instance' is not defined"
          ]
        }
      ],
      "source": [
        "simulation_instance.run(2000)"
      ]
    },
    {
      "cell_type": "markdown",
      "metadata": {
        "id": "V78rXHQ16Wdy"
      },
      "source": [
        "## P1 and Trip Record"
      ]
    },
    {
      "cell_type": "code",
      "execution_count": 15,
      "metadata": {
        "id": "TBE7g-cK6Wdy"
      },
      "outputs": [],
      "source": [
        "def format_time_step(time_step):\n",
        "    base_time = datetime(2020, 1, 2, 0, 0)  # Starting point of the simulation\n",
        "    delta = timedelta(minutes=time_step)  # Assuming each time_step represents minutes directly\n",
        "    return (base_time + delta).strftime(\"%Y-%m-%d %H:%M:%S\")\n",
        "\n",
        "all_drivers = {**simulation_instance.active_drivers, **simulation_instance.working_drivers, **simulation_instance.inactive_drivers}\n",
        "\n",
        "p1_periods_data = []\n",
        "for driver_name, driver in all_drivers.items():\n",
        "    last_active_time_step = None  # To track when the last active period started\n",
        "    last_location = None  # Initialize last known location\n",
        "    for time_step, activity in driver.activity_log.items():\n",
        "        state = activity[0]\n",
        "        if state == 'active' and last_active_time_step is None:\n",
        "            # Mark the beginning of a potential idle period\n",
        "            last_active_time_step = time_step\n",
        "        elif last_active_time_step is not None and state != 'active':\n",
        "            # Log the idle period if transitioning out of the 'active' state\n",
        "            p1_periods_data.append({\n",
        "                \"anon_vin\": driver.name,\n",
        "                \"start_zone\": last_location,  # Using the last known location before going to 'working' state\n",
        "                \"end_zone\": activity[2],  # Start location of the trip\n",
        "                \"distance\": \"N/A\",\n",
        "                \"event_type\": \"P1 Event\",\n",
        "                \"idle_start_datetime\": format_time_step(last_active_time_step),\n",
        "                \"idle_end_datetime\": format_time_step(time_step)\n",
        "            })\n",
        "            last_active_time_step = None  # Reset after logging the idle period\n",
        "        elif state == 'inactive' and last_active_time_step is not None:\n",
        "            # Log the event when the driver leaves the platform\n",
        "            p1_periods_data.append({\n",
        "                \"anon_vin\": driver.name,\n",
        "                \"start_zone\": last_location,  # Using the last known location before going to 'inactive' state\n",
        "                \"end_zone\": activity[2],  # Current location should be same as start location when inactive\n",
        "                \"distance\": \"N/A\",\n",
        "                \"event_type\": \"Driver Left Platform\",\n",
        "                \"idle_start_datetime\": format_time_step(last_active_time_step),\n",
        "                \"idle_end_datetime\": format_time_step(time_step)\n",
        "            })\n",
        "            last_active_time_step = None  # Reset after logging the idle period\n",
        "        last_location = activity[3]  # Always update the last known location\n",
        "\n",
        "df_p1_periods = pd.DataFrame(p1_periods_data)\n",
        "df_p1_periods.head()\n",
        "\n",
        "df_p1_periods.to_csv(r'D:\\OneDrive - University of Toronto\\City Simulation\\2024.02.04 City of Toronto Simulation Platform\\Dataset\\New folder\\result\\P2.csv', index=False)\n"
      ]
    },
    {
      "cell_type": "code",
      "execution_count": 16,
      "metadata": {
        "id": "F-8I8TTs6Wdy"
      },
      "outputs": [],
      "source": [
        "import pandas as pd\n",
        "from datetime import datetime, timedelta\n",
        "\n",
        "# Assuming the format_time_step function definition as before\n",
        "def format_time_step(time_step):\n",
        "    base_time = datetime(2020, 1, 2, 0, 0)  # Adjust according to your simulation's start date and time\n",
        "    delta = timedelta(minutes=time_step)  # Ensure time_step matches the intended unit (e.g., minutes)\n",
        "    return (base_time + delta).strftime(\"%Y-%m-%d %H:%M:%S\")\n",
        "\n",
        "# Combine requesting and serviced trips\n",
        "all_trips = simulation_instance.requesting_trips + simulation_instance.serviced_trips\n",
        "\n",
        "trip_data = []\n",
        "for trip_request in all_trips:\n",
        "    if trip_request.is_completed:\n",
        "        if trip_request.assigned_driver:\n",
        "            trip_data.append({\n",
        "                \"request_ID\": trip_request.ID,\n",
        "                \"anon_vin\": trip_request.assigned_driver.name,\n",
        "                \"start_zone\": trip_request.start_location,\n",
        "                \"end_zone\": trip_request.end_location,\n",
        "                \"distance\": trip_request.distance,  # Consider implementing distance calculation if applicable\n",
        "                \"fare\": trip_request.fare,  # Consider implementing distance calculation if applicable\n",
        "                \"event_type\": \"Complete trip\",\n",
        "                \"request_datetime\": format_time_step(trip_request.request_time),\n",
        "                \"driver_acceptance_datetime\": format_time_step(trip_request.assigned_time),\n",
        "                \"passenger_pickup_datetime\": format_time_step(trip_request.pickup_time),\n",
        "                \"passenger_drop_datetime\": format_time_step(trip_request.pickup_time + trip_request.duration)\n",
        "            })\n",
        "    elif trip_request.is_canceled:\n",
        "        trip_data.append({\n",
        "            \"request_ID\": trip_request.ID,\n",
        "            \"anon_vin\": None,  # No driver assigned\n",
        "            \"start_zone\": trip_request.start_location,\n",
        "            \"end_zone\": trip_request.end_location,\n",
        "            \"distance\": None,  # No trip completed\n",
        "            \"fare\": None,  # No trip completed\n",
        "            \"event_type\": \"Canceled trip\",\n",
        "            \"request_datetime\": format_time_step(trip_request.request_time),\n",
        "            \"driver_acceptance_datetime\": None,\n",
        "            \"passenger_pickup_datetime\": None,\n",
        "            \"passenger_drop_datetime\": None\n",
        "        })\n",
        "\n",
        "# Convert to DataFrame\n",
        "df_trip_data = pd.DataFrame(trip_data)\n",
        "\n",
        "# Optionally, display the first few rows to check the data\n",
        "df_trip_data.head()\n",
        "\n",
        "\n",
        "df_trip_data.to_csv(r'D:\\OneDrive - University of Toronto\\City Simulation\\2024.02.04 City of Toronto Simulation Platform\\Dataset\\New folder\\result\\trip2.csv', index = False)"
      ]
    },
    {
      "cell_type": "markdown",
      "metadata": {
        "id": "Uldj1qTu6Wdz"
      },
      "source": [
        "## Criteria Output"
      ]
    },
    {
      "cell_type": "markdown",
      "metadata": {},
      "source": [
        "### 1. Average Passenger Wait Time"
      ]
    },
    {
      "cell_type": "code",
      "execution_count": 17,
      "metadata": {
        "id": "tRo7FVqf6Wdz",
        "outputId": "f6bf16cd-fc3f-4f8f-8477-193496a98f8b"
      },
      "outputs": [
        {
          "name": "stdout",
          "output_type": "stream",
          "text": [
            "The average waiting time for each trip is 2.480958730365215 minutes.\n"
          ]
        }
      ],
      "source": [
        "import pandas as pd\n",
        "\n",
        "def calculate_average_waiting_time(csv_file):\n",
        "    # Load the data from CSV\n",
        "    df = pd.read_csv(csv_file)\n",
        "\n",
        "    # Ensure datetime columns are in the correct format\n",
        "    df[\"request_datetime\"] = pd.to_datetime(df[\"request_datetime\"])\n",
        "    df[\"passenger_pickup_datetime\"] = pd.to_datetime(df[\"passenger_pickup_datetime\"])\n",
        "\n",
        "    # Calculate waiting time in minutes\n",
        "    df[\"waiting_time\"] = (df[\"passenger_pickup_datetime\"] - df[\"request_datetime\"]).dt.total_seconds() / 60\n",
        "\n",
        "    # Calculate average waiting time\n",
        "    average_waiting_time = df[\"waiting_time\"].mean()\n",
        "\n",
        "    return average_waiting_time\n",
        "\n",
        "# Example usage\n",
        "trip_data = r'D:\\OneDrive - University of Toronto\\City Simulation\\2024.02.04 City of Toronto Simulation Platform\\Dataset\\New folder\\result\\trip2.csv'\n",
        "average_waiting_time = calculate_average_waiting_time(trip_data)\n",
        "print(f\"The average waiting time for each trip is {average_waiting_time} minutes.\")\n"
      ]
    },
    {
      "cell_type": "markdown",
      "metadata": {},
      "source": [
        "### 2. Average Driver Idle Time"
      ]
    },
    {
      "cell_type": "code",
      "execution_count": 18,
      "metadata": {
        "id": "uybMbBlE6Wd0",
        "outputId": "fc597ca7-cb80-4541-e5d8-953ea81b5905"
      },
      "outputs": [
        {
          "name": "stdout",
          "output_type": "stream",
          "text": [
            "Mean Idle Time for All Drivers: 13.923282862596654 minutes\n"
          ]
        }
      ],
      "source": [
        "import pandas as pd\n",
        "\n",
        "def calculate_mean_idle_time_all_drivers(csv_file):\n",
        "    # Load the data from CSV\n",
        "    df = pd.read_csv(csv_file)\n",
        "\n",
        "    # Convert datetime columns to the correct format\n",
        "    df[\"idle_start_datetime\"] = pd.to_datetime(df[\"idle_start_datetime\"])\n",
        "    df[\"idle_end_datetime\"] = pd.to_datetime(df[\"idle_end_datetime\"])\n",
        "\n",
        "    # Calculate idle time in minutes for each event\n",
        "    df[\"idle_time_minutes\"] = (df[\"idle_end_datetime\"] - df[\"idle_start_datetime\"]).dt.total_seconds() / 60\n",
        "\n",
        "    # Calculate mean idle time across all drivers\n",
        "    mean_idle_time_all_drivers = df[\"idle_time_minutes\"].mean()\n",
        "\n",
        "    return mean_idle_time_all_drivers\n",
        "\n",
        "# Example usage\n",
        "csv_file_path = r'D:\\OneDrive - University of Toronto\\City Simulation\\2024.02.04 City of Toronto Simulation Platform\\Dataset\\New folder\\result\\P2.csv'\n",
        "mean_idle_time_all_drivers = calculate_mean_idle_time_all_drivers(csv_file_path)\n",
        "print(f\"Mean Idle Time for All Drivers: {mean_idle_time_all_drivers} minutes\")\n"
      ]
    },
    {
      "cell_type": "markdown",
      "metadata": {},
      "source": [
        "### 3. Utilization Rate"
      ]
    },
    {
      "cell_type": "code",
      "execution_count": 19,
      "metadata": {
        "id": "cy5HkYzh6Wd0",
        "outputId": "8e0f78fb-6952-4a11-ff80-466be41a8a77"
      },
      "outputs": [
        {
          "name": "stdout",
          "output_type": "stream",
          "text": [
            "Utilization Rate: 0.4955400890868597\n"
          ]
        }
      ],
      "source": [
        "def calculate_utilization_rate(trips_csv_file, idle_csv_file):\n",
        "    # Load the trips data\n",
        "    trips_df = pd.read_csv(trips_csv_file)\n",
        "    trips_df[\"passenger_pickup_datetime\"] = pd.to_datetime(trips_df[\"passenger_pickup_datetime\"])\n",
        "    trips_df[\"passenger_drop_datetime\"] = pd.to_datetime(trips_df[\"passenger_drop_datetime\"])\n",
        "    trips_df[\"trip_time\"] = (trips_df[\"passenger_drop_datetime\"] - trips_df[\"passenger_pickup_datetime\"]).dt.total_seconds() / 60\n",
        "\n",
        "    # Load the idle data\n",
        "    idle_df = pd.read_csv(idle_csv_file)\n",
        "    idle_df[\"idle_start_datetime\"] = pd.to_datetime(idle_df[\"idle_start_datetime\"])\n",
        "    idle_df[\"idle_end_datetime\"] = pd.to_datetime(idle_df[\"idle_end_datetime\"])\n",
        "    idle_df[\"idle_time\"] = (idle_df[\"idle_end_datetime\"] - idle_df[\"idle_start_datetime\"]).dt.total_seconds() / 60\n",
        "\n",
        "    # Calculate total trip time and total idle time\n",
        "    total_trip_time = trips_df[\"trip_time\"].sum()\n",
        "    total_idle_time = idle_df[\"idle_time\"].sum()\n",
        "\n",
        "    # Calculate utilization rate\n",
        "    utilization_rate = total_trip_time / (total_trip_time + total_idle_time)\n",
        "\n",
        "    return utilization_rate\n",
        "\n",
        "# Example usage\n",
        "trips_csv_file_path = r'D:\\OneDrive - University of Toronto\\City Simulation\\2024.02.04 City of Toronto Simulation Platform\\Dataset\\New folder\\result\\trip2.csv'\n",
        "idle_csv_file_path = r'D:\\OneDrive - University of Toronto\\City Simulation\\2024.02.04 City of Toronto Simulation Platform\\Dataset\\New folder\\result\\P2.csv'\n",
        "utilization_rate = calculate_utilization_rate(trips_csv_file_path, idle_csv_file_path)\n",
        "print(f\"Utilization Rate: {utilization_rate}\")\n"
      ]
    },
    {
      "cell_type": "markdown",
      "metadata": {},
      "source": [
        "### 4. Percentage of Cancelled Trips"
      ]
    },
    {
      "cell_type": "code",
      "execution_count": 20,
      "metadata": {},
      "outputs": [
        {
          "name": "stdout",
          "output_type": "stream",
          "text": [
            "Percentage of Canceled Trips: 0.00%\n"
          ]
        }
      ],
      "source": [
        "import pandas as pd\n",
        "\n",
        "# Load the dataset\n",
        "data = pd.read_csv(r'D:\\OneDrive - University of Toronto\\City Simulation\\2024.02.04 City of Toronto Simulation Platform\\Dataset\\New folder\\result\\trip2.csv')\n",
        "\n",
        "# Calculate the total number of records\n",
        "total_records = len(data)\n",
        "\n",
        "# Calculate the number of records with 'Canceled trip' in the event_type column\n",
        "canceled_trips = len(data[data['event_type'] == 'Canceled trip'])\n",
        "\n",
        "# Calculate the percentage of canceled trips\n",
        "percentage_canceled = (canceled_trips / total_records) * 100\n",
        "\n",
        "print(f\"Percentage of Canceled Trips: {percentage_canceled:.2f}%\")\n"
      ]
    },
    {
      "cell_type": "markdown",
      "metadata": {},
      "source": [
        "### 5. Active Trip Time Ratio"
      ]
    },
    {
      "cell_type": "code",
      "execution_count": 22,
      "metadata": {},
      "outputs": [
        {
          "data": {
            "text/plain": [
              "0.3227428279382164"
            ]
          },
          "execution_count": 22,
          "metadata": {},
          "output_type": "execute_result"
        }
      ],
      "source": [
        "import pandas as pd\n",
        "df2=pd.read_csv(r'D:\\OneDrive - University of Toronto\\City Simulation\\2024.02.04 City of Toronto Simulation Platform\\Dataset\\Ride_hailing_Dataset.csv')\n",
        "\n",
        "\n",
        "# Convert to datetime\n",
        "df2['passengerpickupdatetime'] = pd.to_datetime(df2['passengerpickupdatetime'])\n",
        "df2['passengerdropoffdatetime'] = pd.to_datetime(df2['passengerdropoffdatetime'])\n",
        "df2['start_datetime'] = pd.to_datetime(df2['start_datetime'])\n",
        "df2['end_datetime'] = pd.to_datetime(df2['end_datetime'])\n",
        "\n",
        "# Calculate the sum of the differences\n",
        "sum_trip_duration = (df2['passengerdropoffdatetime'] - df2['passengerpickupdatetime']).sum()\n",
        "sum_shift_duration = (df2['end_datetime'] - df2['start_datetime']).sum()\n",
        "\n",
        "# Convert the sums to minutes\n",
        "sum_trip_duration_minutes = sum_trip_duration.total_seconds() / 60\n",
        "sum_shift_duration_minutes = sum_shift_duration.total_seconds() / 60\n",
        "\n",
        "sum_trip_duration_minutes/ sum_shift_duration_minutes"
      ]
    }
  ],
  "metadata": {
    "colab": {
      "provenance": []
    },
    "kernelspec": {
      "display_name": "base",
      "language": "python",
      "name": "python3"
    },
    "language_info": {
      "codemirror_mode": {
        "name": "ipython",
        "version": 3
      },
      "file_extension": ".py",
      "mimetype": "text/x-python",
      "name": "python",
      "nbconvert_exporter": "python",
      "pygments_lexer": "ipython3",
      "version": "3.10.14"
    }
  },
  "nbformat": 4,
  "nbformat_minor": 0
}
